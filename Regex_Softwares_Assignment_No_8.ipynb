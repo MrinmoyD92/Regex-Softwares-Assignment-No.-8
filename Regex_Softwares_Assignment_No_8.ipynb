{
  "nbformat": 4,
  "nbformat_minor": 0,
  "metadata": {
    "colab": {
      "name": "Regex Softwares Assignment No. 8.ipynb",
      "provenance": [],
      "collapsed_sections": []
    },
    "kernelspec": {
      "name": "python3",
      "display_name": "Python 3"
    },
    "language_info": {
      "name": "python"
    }
  },
  "cells": [
    {
      "cell_type": "code",
      "metadata": {
        "id": "0H-JvvBnEBZg"
      },
      "source": [
        "#Importing all the libraries required\n",
        "import pandas as pd\n",
        "import numpy as np\n",
        "import matplotlib.pyplot as plt\n",
        "%matplotlib inline\n",
        "import seaborn as sns\n",
        "\n",
        "from sklearn.model_selection import train_test_split\n",
        "from sklearn.metrics import log_loss,roc_auc_score,precision_score,f1_score,recall_score,roc_curve,auc\n",
        "from sklearn.metrics import classification_report, confusion_matrix,accuracy_score,fbeta_score,matthews_corrcoef\n",
        "from sklearn import metrics\n",
        "from sklearn.model_selection import StratifiedKFold\n",
        "\n",
        "from sklearn.linear_model import LogisticRegression\n",
        "from sklearn.ensemble import RandomForestClassifier,VotingClassifier,AdaBoostClassifier,GradientBoostingClassifier,RandomForestClassifier,ExtraTreesClassifier\n",
        "from sklearn.neural_network import MLPClassifier\n",
        "from sklearn.tree import DecisionTreeClassifier\n",
        "from sklearn.linear_model import SGDClassifier\n",
        "from sklearn.discriminant_analysis import LinearDiscriminantAnalysis\n",
        "from sklearn.svm import SVC \n",
        "import xgboost as xgb\n",
        "\n",
        "from scipy import stats"
      ],
      "execution_count": 350,
      "outputs": []
    },
    {
      "cell_type": "code",
      "metadata": {
        "id": "k4ypljEKEwMw"
      },
      "source": [
        "dt = pd.read_csv('/content/heart.csv')"
      ],
      "execution_count": 351,
      "outputs": []
    },
    {
      "cell_type": "code",
      "metadata": {
        "colab": {
          "base_uri": "https://localhost:8080/",
          "height": 203
        },
        "id": "48zjOJZzFDIb",
        "outputId": "d4ffcb10-0344-4a2e-ef87-47aa42f396d3"
      },
      "source": [
        "dt.head()"
      ],
      "execution_count": 352,
      "outputs": [
        {
          "output_type": "execute_result",
          "data": {
            "text/html": [
              "<div>\n",
              "<style scoped>\n",
              "    .dataframe tbody tr th:only-of-type {\n",
              "        vertical-align: middle;\n",
              "    }\n",
              "\n",
              "    .dataframe tbody tr th {\n",
              "        vertical-align: top;\n",
              "    }\n",
              "\n",
              "    .dataframe thead th {\n",
              "        text-align: right;\n",
              "    }\n",
              "</style>\n",
              "<table border=\"1\" class=\"dataframe\">\n",
              "  <thead>\n",
              "    <tr style=\"text-align: right;\">\n",
              "      <th></th>\n",
              "      <th>age</th>\n",
              "      <th>sex</th>\n",
              "      <th>cp</th>\n",
              "      <th>trtbps</th>\n",
              "      <th>chol</th>\n",
              "      <th>fbs</th>\n",
              "      <th>restecg</th>\n",
              "      <th>thalachh</th>\n",
              "      <th>exng</th>\n",
              "      <th>oldpeak</th>\n",
              "      <th>slp</th>\n",
              "      <th>caa</th>\n",
              "      <th>thall</th>\n",
              "      <th>output</th>\n",
              "    </tr>\n",
              "  </thead>\n",
              "  <tbody>\n",
              "    <tr>\n",
              "      <th>0</th>\n",
              "      <td>63</td>\n",
              "      <td>1</td>\n",
              "      <td>3</td>\n",
              "      <td>145</td>\n",
              "      <td>233</td>\n",
              "      <td>1</td>\n",
              "      <td>0</td>\n",
              "      <td>150</td>\n",
              "      <td>0</td>\n",
              "      <td>2.3</td>\n",
              "      <td>0</td>\n",
              "      <td>0</td>\n",
              "      <td>1</td>\n",
              "      <td>1</td>\n",
              "    </tr>\n",
              "    <tr>\n",
              "      <th>1</th>\n",
              "      <td>37</td>\n",
              "      <td>1</td>\n",
              "      <td>2</td>\n",
              "      <td>130</td>\n",
              "      <td>250</td>\n",
              "      <td>0</td>\n",
              "      <td>1</td>\n",
              "      <td>187</td>\n",
              "      <td>0</td>\n",
              "      <td>3.5</td>\n",
              "      <td>0</td>\n",
              "      <td>0</td>\n",
              "      <td>2</td>\n",
              "      <td>1</td>\n",
              "    </tr>\n",
              "    <tr>\n",
              "      <th>2</th>\n",
              "      <td>41</td>\n",
              "      <td>0</td>\n",
              "      <td>1</td>\n",
              "      <td>130</td>\n",
              "      <td>204</td>\n",
              "      <td>0</td>\n",
              "      <td>0</td>\n",
              "      <td>172</td>\n",
              "      <td>0</td>\n",
              "      <td>1.4</td>\n",
              "      <td>2</td>\n",
              "      <td>0</td>\n",
              "      <td>2</td>\n",
              "      <td>1</td>\n",
              "    </tr>\n",
              "    <tr>\n",
              "      <th>3</th>\n",
              "      <td>56</td>\n",
              "      <td>1</td>\n",
              "      <td>1</td>\n",
              "      <td>120</td>\n",
              "      <td>236</td>\n",
              "      <td>0</td>\n",
              "      <td>1</td>\n",
              "      <td>178</td>\n",
              "      <td>0</td>\n",
              "      <td>0.8</td>\n",
              "      <td>2</td>\n",
              "      <td>0</td>\n",
              "      <td>2</td>\n",
              "      <td>1</td>\n",
              "    </tr>\n",
              "    <tr>\n",
              "      <th>4</th>\n",
              "      <td>57</td>\n",
              "      <td>0</td>\n",
              "      <td>0</td>\n",
              "      <td>120</td>\n",
              "      <td>354</td>\n",
              "      <td>0</td>\n",
              "      <td>1</td>\n",
              "      <td>163</td>\n",
              "      <td>1</td>\n",
              "      <td>0.6</td>\n",
              "      <td>2</td>\n",
              "      <td>0</td>\n",
              "      <td>2</td>\n",
              "      <td>1</td>\n",
              "    </tr>\n",
              "  </tbody>\n",
              "</table>\n",
              "</div>"
            ],
            "text/plain": [
              "   age  sex  cp  trtbps  chol  fbs  ...  exng  oldpeak  slp  caa  thall  output\n",
              "0   63    1   3     145   233    1  ...     0      2.3    0    0      1       1\n",
              "1   37    1   2     130   250    0  ...     0      3.5    0    0      2       1\n",
              "2   41    0   1     130   204    0  ...     0      1.4    2    0      2       1\n",
              "3   56    1   1     120   236    0  ...     0      0.8    2    0      2       1\n",
              "4   57    0   0     120   354    0  ...     1      0.6    2    0      2       1\n",
              "\n",
              "[5 rows x 14 columns]"
            ]
          },
          "metadata": {},
          "execution_count": 352
        }
      ]
    },
    {
      "cell_type": "code",
      "metadata": {
        "colab": {
          "base_uri": "https://localhost:8080/"
        },
        "id": "1Ji1qlUMFEnJ",
        "outputId": "a308ff0b-1de2-47d2-e985-69f67145f0d3"
      },
      "source": [
        "dt.columns"
      ],
      "execution_count": 353,
      "outputs": [
        {
          "output_type": "execute_result",
          "data": {
            "text/plain": [
              "Index(['age', 'sex', 'cp', 'trtbps', 'chol', 'fbs', 'restecg', 'thalachh',\n",
              "       'exng', 'oldpeak', 'slp', 'caa', 'thall', 'output'],\n",
              "      dtype='object')"
            ]
          },
          "metadata": {},
          "execution_count": 353
        }
      ]
    },
    {
      "cell_type": "code",
      "metadata": {
        "id": "oSf2kiXsFpjP"
      },
      "source": [
        "dt.columns = ['age', 'sex', 'chest_pain_type', 'resting_blood_pressure', 'cholesterol', 'fasting_blood_sugar', 'rest_ecg', 'max_heart_rate_achieved',\n",
        "       'exercise_induced_angina', 'st_depression', 'st_slope', 'caa', 'thall', 'target']"
      ],
      "execution_count": 354,
      "outputs": []
    },
    {
      "cell_type": "code",
      "metadata": {
        "colab": {
          "base_uri": "https://localhost:8080/"
        },
        "id": "90hocp4-GkTm",
        "outputId": "39fb9ecb-679d-455a-94f1-58e479d97f83"
      },
      "source": [
        "# converting features to categorical features \n",
        "\n",
        "dt['chest_pain_type'][dt['chest_pain_type'] == 0] = 'typical angina'\n",
        "dt['chest_pain_type'][dt['chest_pain_type'] == 1] = 'atypical angina'\n",
        "dt['chest_pain_type'][dt['chest_pain_type'] == 2] = 'non-anginal pain'\n",
        "dt['chest_pain_type'][dt['chest_pain_type'] == 3] = 'asymptomatic'\n",
        "\n",
        "\n",
        "\n",
        "dt['rest_ecg'][dt['rest_ecg'] == 0] = 'normal'\n",
        "dt['rest_ecg'][dt['rest_ecg'] == 1] = 'ST-T wave abnormality'\n",
        "dt['rest_ecg'][dt['rest_ecg'] == 2] = 'left ventricular hypertrophy'\n",
        "\n",
        "\n",
        "\n",
        "dt['st_slope'][dt['st_slope'] == 1] = 'upsloping'\n",
        "dt['st_slope'][dt['st_slope'] == 2] = 'flat'\n",
        "dt['st_slope'][dt['st_slope'] == 3] = 'downsloping'\n",
        "\n",
        "dt[\"sex\"] = dt.sex.apply(lambda  x:'male' if x==1 else 'female')"
      ],
      "execution_count": 355,
      "outputs": [
        {
          "output_type": "stream",
          "name": "stderr",
          "text": [
            "/usr/local/lib/python3.7/dist-packages/ipykernel_launcher.py:3: SettingWithCopyWarning: \n",
            "A value is trying to be set on a copy of a slice from a DataFrame\n",
            "\n",
            "See the caveats in the documentation: https://pandas.pydata.org/pandas-docs/stable/user_guide/indexing.html#returning-a-view-versus-a-copy\n",
            "  This is separate from the ipykernel package so we can avoid doing imports until\n",
            "/usr/local/lib/python3.7/dist-packages/ipykernel_launcher.py:10: SettingWithCopyWarning: \n",
            "A value is trying to be set on a copy of a slice from a DataFrame\n",
            "\n",
            "See the caveats in the documentation: https://pandas.pydata.org/pandas-docs/stable/user_guide/indexing.html#returning-a-view-versus-a-copy\n",
            "  # Remove the CWD from sys.path while we load stuff.\n",
            "/usr/local/lib/python3.7/dist-packages/ipykernel_launcher.py:16: SettingWithCopyWarning: \n",
            "A value is trying to be set on a copy of a slice from a DataFrame\n",
            "\n",
            "See the caveats in the documentation: https://pandas.pydata.org/pandas-docs/stable/user_guide/indexing.html#returning-a-view-versus-a-copy\n",
            "  app.launch_new_instance()\n",
            "/usr/local/lib/python3.7/dist-packages/ipykernel_launcher.py:17: SettingWithCopyWarning: \n",
            "A value is trying to be set on a copy of a slice from a DataFrame\n",
            "\n",
            "See the caveats in the documentation: https://pandas.pydata.org/pandas-docs/stable/user_guide/indexing.html#returning-a-view-versus-a-copy\n",
            "/usr/local/lib/python3.7/dist-packages/ipykernel_launcher.py:18: SettingWithCopyWarning: \n",
            "A value is trying to be set on a copy of a slice from a DataFrame\n",
            "\n",
            "See the caveats in the documentation: https://pandas.pydata.org/pandas-docs/stable/user_guide/indexing.html#returning-a-view-versus-a-copy\n"
          ]
        }
      ]
    },
    {
      "cell_type": "code",
      "metadata": {
        "colab": {
          "base_uri": "https://localhost:8080/"
        },
        "id": "WvzyIqEjGwWF",
        "outputId": "7c21c67d-2bc9-4e54-b579-8ee2872df752"
      },
      "source": [
        "dt['chest_pain_type'].value_counts()"
      ],
      "execution_count": 356,
      "outputs": [
        {
          "output_type": "execute_result",
          "data": {
            "text/plain": [
              "typical angina      143\n",
              "non-anginal pain     87\n",
              "atypical angina      50\n",
              "asymptomatic         23\n",
              "Name: chest_pain_type, dtype: int64"
            ]
          },
          "metadata": {},
          "execution_count": 356
        }
      ]
    },
    {
      "cell_type": "code",
      "metadata": {
        "colab": {
          "base_uri": "https://localhost:8080/"
        },
        "id": "JOzU6AaxG4g1",
        "outputId": "0f91aebf-5874-491d-f28a-97ca91633444"
      },
      "source": [
        "dt['rest_ecg'].value_counts()"
      ],
      "execution_count": 357,
      "outputs": [
        {
          "output_type": "execute_result",
          "data": {
            "text/plain": [
              "ST-T wave abnormality           152\n",
              "normal                          147\n",
              "left ventricular hypertrophy      4\n",
              "Name: rest_ecg, dtype: int64"
            ]
          },
          "metadata": {},
          "execution_count": 357
        }
      ]
    },
    {
      "cell_type": "code",
      "metadata": {
        "colab": {
          "base_uri": "https://localhost:8080/"
        },
        "id": "BswD1s7QG7m2",
        "outputId": "90a4b641-4eea-45d5-b39c-b9ee75752033"
      },
      "source": [
        "dt['st_slope'].value_counts()"
      ],
      "execution_count": 358,
      "outputs": [
        {
          "output_type": "execute_result",
          "data": {
            "text/plain": [
              "flat         142\n",
              "upsloping    140\n",
              "0             21\n",
              "Name: st_slope, dtype: int64"
            ]
          },
          "metadata": {},
          "execution_count": 358
        }
      ]
    },
    {
      "cell_type": "code",
      "metadata": {
        "colab": {
          "base_uri": "https://localhost:8080/"
        },
        "id": "GGGD5TZeG-t5",
        "outputId": "04e526ea-e75e-4a80-ec39-0bb574a168fc"
      },
      "source": [
        "dt.drop(dt[dt.st_slope ==0].index, inplace=True)\n",
        "dt['st_slope'].value_counts()"
      ],
      "execution_count": 359,
      "outputs": [
        {
          "output_type": "execute_result",
          "data": {
            "text/plain": [
              "flat         142\n",
              "upsloping    140\n",
              "Name: st_slope, dtype: int64"
            ]
          },
          "metadata": {},
          "execution_count": 359
        }
      ]
    },
    {
      "cell_type": "code",
      "metadata": {
        "colab": {
          "base_uri": "https://localhost:8080/",
          "height": 274
        },
        "id": "2dXwZXp-HCdd",
        "outputId": "038c01e3-9391-4bed-9adf-30e6f63202c6"
      },
      "source": [
        "dt.head()"
      ],
      "execution_count": 360,
      "outputs": [
        {
          "output_type": "execute_result",
          "data": {
            "text/html": [
              "<div>\n",
              "<style scoped>\n",
              "    .dataframe tbody tr th:only-of-type {\n",
              "        vertical-align: middle;\n",
              "    }\n",
              "\n",
              "    .dataframe tbody tr th {\n",
              "        vertical-align: top;\n",
              "    }\n",
              "\n",
              "    .dataframe thead th {\n",
              "        text-align: right;\n",
              "    }\n",
              "</style>\n",
              "<table border=\"1\" class=\"dataframe\">\n",
              "  <thead>\n",
              "    <tr style=\"text-align: right;\">\n",
              "      <th></th>\n",
              "      <th>age</th>\n",
              "      <th>sex</th>\n",
              "      <th>chest_pain_type</th>\n",
              "      <th>resting_blood_pressure</th>\n",
              "      <th>cholesterol</th>\n",
              "      <th>fasting_blood_sugar</th>\n",
              "      <th>rest_ecg</th>\n",
              "      <th>max_heart_rate_achieved</th>\n",
              "      <th>exercise_induced_angina</th>\n",
              "      <th>st_depression</th>\n",
              "      <th>st_slope</th>\n",
              "      <th>caa</th>\n",
              "      <th>thall</th>\n",
              "      <th>target</th>\n",
              "    </tr>\n",
              "  </thead>\n",
              "  <tbody>\n",
              "    <tr>\n",
              "      <th>2</th>\n",
              "      <td>41</td>\n",
              "      <td>female</td>\n",
              "      <td>atypical angina</td>\n",
              "      <td>130</td>\n",
              "      <td>204</td>\n",
              "      <td>0</td>\n",
              "      <td>normal</td>\n",
              "      <td>172</td>\n",
              "      <td>0</td>\n",
              "      <td>1.4</td>\n",
              "      <td>flat</td>\n",
              "      <td>0</td>\n",
              "      <td>2</td>\n",
              "      <td>1</td>\n",
              "    </tr>\n",
              "    <tr>\n",
              "      <th>3</th>\n",
              "      <td>56</td>\n",
              "      <td>male</td>\n",
              "      <td>atypical angina</td>\n",
              "      <td>120</td>\n",
              "      <td>236</td>\n",
              "      <td>0</td>\n",
              "      <td>ST-T wave abnormality</td>\n",
              "      <td>178</td>\n",
              "      <td>0</td>\n",
              "      <td>0.8</td>\n",
              "      <td>flat</td>\n",
              "      <td>0</td>\n",
              "      <td>2</td>\n",
              "      <td>1</td>\n",
              "    </tr>\n",
              "    <tr>\n",
              "      <th>4</th>\n",
              "      <td>57</td>\n",
              "      <td>female</td>\n",
              "      <td>typical angina</td>\n",
              "      <td>120</td>\n",
              "      <td>354</td>\n",
              "      <td>0</td>\n",
              "      <td>ST-T wave abnormality</td>\n",
              "      <td>163</td>\n",
              "      <td>1</td>\n",
              "      <td>0.6</td>\n",
              "      <td>flat</td>\n",
              "      <td>0</td>\n",
              "      <td>2</td>\n",
              "      <td>1</td>\n",
              "    </tr>\n",
              "    <tr>\n",
              "      <th>5</th>\n",
              "      <td>57</td>\n",
              "      <td>male</td>\n",
              "      <td>typical angina</td>\n",
              "      <td>140</td>\n",
              "      <td>192</td>\n",
              "      <td>0</td>\n",
              "      <td>ST-T wave abnormality</td>\n",
              "      <td>148</td>\n",
              "      <td>0</td>\n",
              "      <td>0.4</td>\n",
              "      <td>upsloping</td>\n",
              "      <td>0</td>\n",
              "      <td>1</td>\n",
              "      <td>1</td>\n",
              "    </tr>\n",
              "    <tr>\n",
              "      <th>6</th>\n",
              "      <td>56</td>\n",
              "      <td>female</td>\n",
              "      <td>atypical angina</td>\n",
              "      <td>140</td>\n",
              "      <td>294</td>\n",
              "      <td>0</td>\n",
              "      <td>normal</td>\n",
              "      <td>153</td>\n",
              "      <td>0</td>\n",
              "      <td>1.3</td>\n",
              "      <td>upsloping</td>\n",
              "      <td>0</td>\n",
              "      <td>2</td>\n",
              "      <td>1</td>\n",
              "    </tr>\n",
              "  </tbody>\n",
              "</table>\n",
              "</div>"
            ],
            "text/plain": [
              "   age     sex  chest_pain_type  ...  caa  thall  target\n",
              "2   41  female  atypical angina  ...    0      2       1\n",
              "3   56    male  atypical angina  ...    0      2       1\n",
              "4   57  female   typical angina  ...    0      2       1\n",
              "5   57    male   typical angina  ...    0      1       1\n",
              "6   56  female  atypical angina  ...    0      2       1\n",
              "\n",
              "[5 rows x 14 columns]"
            ]
          },
          "metadata": {},
          "execution_count": 360
        }
      ]
    },
    {
      "cell_type": "code",
      "metadata": {
        "colab": {
          "base_uri": "https://localhost:8080/"
        },
        "id": "WNssLCQcHJ5B",
        "outputId": "a431b187-7294-4f5a-d53d-b0658b98b5bf"
      },
      "source": [
        "dt.isna().sum()"
      ],
      "execution_count": 361,
      "outputs": [
        {
          "output_type": "execute_result",
          "data": {
            "text/plain": [
              "age                        0\n",
              "sex                        0\n",
              "chest_pain_type            0\n",
              "resting_blood_pressure     0\n",
              "cholesterol                0\n",
              "fasting_blood_sugar        0\n",
              "rest_ecg                   0\n",
              "max_heart_rate_achieved    0\n",
              "exercise_induced_angina    0\n",
              "st_depression              0\n",
              "st_slope                   0\n",
              "caa                        0\n",
              "thall                      0\n",
              "target                     0\n",
              "dtype: int64"
            ]
          },
          "metadata": {},
          "execution_count": 361
        }
      ]
    },
    {
      "cell_type": "code",
      "metadata": {
        "colab": {
          "base_uri": "https://localhost:8080/"
        },
        "id": "qctvvJfcITHa",
        "outputId": "cf605328-5c21-4aaf-b584-0968cf0409e7"
      },
      "source": [
        "dt.shape"
      ],
      "execution_count": 362,
      "outputs": [
        {
          "output_type": "execute_result",
          "data": {
            "text/plain": [
              "(282, 14)"
            ]
          },
          "metadata": {},
          "execution_count": 362
        }
      ]
    },
    {
      "cell_type": "code",
      "metadata": {
        "colab": {
          "base_uri": "https://localhost:8080/",
          "height": 315
        },
        "id": "DWz4XN5OIYqB",
        "outputId": "c7f0ce9e-68a3-4829-a6d8-d14fc4566b56"
      },
      "source": [
        "dt.describe(include =[np.number])"
      ],
      "execution_count": 363,
      "outputs": [
        {
          "output_type": "execute_result",
          "data": {
            "text/html": [
              "<div>\n",
              "<style scoped>\n",
              "    .dataframe tbody tr th:only-of-type {\n",
              "        vertical-align: middle;\n",
              "    }\n",
              "\n",
              "    .dataframe tbody tr th {\n",
              "        vertical-align: top;\n",
              "    }\n",
              "\n",
              "    .dataframe thead th {\n",
              "        text-align: right;\n",
              "    }\n",
              "</style>\n",
              "<table border=\"1\" class=\"dataframe\">\n",
              "  <thead>\n",
              "    <tr style=\"text-align: right;\">\n",
              "      <th></th>\n",
              "      <th>age</th>\n",
              "      <th>resting_blood_pressure</th>\n",
              "      <th>cholesterol</th>\n",
              "      <th>fasting_blood_sugar</th>\n",
              "      <th>max_heart_rate_achieved</th>\n",
              "      <th>exercise_induced_angina</th>\n",
              "      <th>st_depression</th>\n",
              "      <th>caa</th>\n",
              "      <th>thall</th>\n",
              "      <th>target</th>\n",
              "    </tr>\n",
              "  </thead>\n",
              "  <tbody>\n",
              "    <tr>\n",
              "      <th>count</th>\n",
              "      <td>282.000000</td>\n",
              "      <td>282.000000</td>\n",
              "      <td>282.000000</td>\n",
              "      <td>282.000000</td>\n",
              "      <td>282.000000</td>\n",
              "      <td>282.000000</td>\n",
              "      <td>282.000000</td>\n",
              "      <td>282.000000</td>\n",
              "      <td>282.000000</td>\n",
              "      <td>282.000000</td>\n",
              "    </tr>\n",
              "    <tr>\n",
              "      <th>mean</th>\n",
              "      <td>54.290780</td>\n",
              "      <td>131.039007</td>\n",
              "      <td>246.904255</td>\n",
              "      <td>0.138298</td>\n",
              "      <td>150.000000</td>\n",
              "      <td>0.319149</td>\n",
              "      <td>0.914894</td>\n",
              "      <td>0.741135</td>\n",
              "      <td>2.312057</td>\n",
              "      <td>0.553191</td>\n",
              "    </tr>\n",
              "    <tr>\n",
              "      <th>std</th>\n",
              "      <td>9.145747</td>\n",
              "      <td>17.010210</td>\n",
              "      <td>52.209216</td>\n",
              "      <td>0.345826</td>\n",
              "      <td>22.725031</td>\n",
              "      <td>0.466976</td>\n",
              "      <td>1.015954</td>\n",
              "      <td>1.023049</td>\n",
              "      <td>0.604076</td>\n",
              "      <td>0.498046</td>\n",
              "    </tr>\n",
              "    <tr>\n",
              "      <th>min</th>\n",
              "      <td>29.000000</td>\n",
              "      <td>94.000000</td>\n",
              "      <td>126.000000</td>\n",
              "      <td>0.000000</td>\n",
              "      <td>71.000000</td>\n",
              "      <td>0.000000</td>\n",
              "      <td>0.000000</td>\n",
              "      <td>0.000000</td>\n",
              "      <td>0.000000</td>\n",
              "      <td>0.000000</td>\n",
              "    </tr>\n",
              "    <tr>\n",
              "      <th>25%</th>\n",
              "      <td>47.000000</td>\n",
              "      <td>120.000000</td>\n",
              "      <td>211.000000</td>\n",
              "      <td>0.000000</td>\n",
              "      <td>134.500000</td>\n",
              "      <td>0.000000</td>\n",
              "      <td>0.000000</td>\n",
              "      <td>0.000000</td>\n",
              "      <td>2.000000</td>\n",
              "      <td>0.000000</td>\n",
              "    </tr>\n",
              "    <tr>\n",
              "      <th>50%</th>\n",
              "      <td>55.000000</td>\n",
              "      <td>130.000000</td>\n",
              "      <td>241.500000</td>\n",
              "      <td>0.000000</td>\n",
              "      <td>154.000000</td>\n",
              "      <td>0.000000</td>\n",
              "      <td>0.600000</td>\n",
              "      <td>0.000000</td>\n",
              "      <td>2.000000</td>\n",
              "      <td>1.000000</td>\n",
              "    </tr>\n",
              "    <tr>\n",
              "      <th>75%</th>\n",
              "      <td>61.000000</td>\n",
              "      <td>140.000000</td>\n",
              "      <td>275.000000</td>\n",
              "      <td>0.000000</td>\n",
              "      <td>166.750000</td>\n",
              "      <td>1.000000</td>\n",
              "      <td>1.500000</td>\n",
              "      <td>1.000000</td>\n",
              "      <td>3.000000</td>\n",
              "      <td>1.000000</td>\n",
              "    </tr>\n",
              "    <tr>\n",
              "      <th>max</th>\n",
              "      <td>77.000000</td>\n",
              "      <td>192.000000</td>\n",
              "      <td>564.000000</td>\n",
              "      <td>1.000000</td>\n",
              "      <td>202.000000</td>\n",
              "      <td>1.000000</td>\n",
              "      <td>4.200000</td>\n",
              "      <td>4.000000</td>\n",
              "      <td>3.000000</td>\n",
              "      <td>1.000000</td>\n",
              "    </tr>\n",
              "  </tbody>\n",
              "</table>\n",
              "</div>"
            ],
            "text/plain": [
              "              age  resting_blood_pressure  ...       thall      target\n",
              "count  282.000000              282.000000  ...  282.000000  282.000000\n",
              "mean    54.290780              131.039007  ...    2.312057    0.553191\n",
              "std      9.145747               17.010210  ...    0.604076    0.498046\n",
              "min     29.000000               94.000000  ...    0.000000    0.000000\n",
              "25%     47.000000              120.000000  ...    2.000000    0.000000\n",
              "50%     55.000000              130.000000  ...    2.000000    1.000000\n",
              "75%     61.000000              140.000000  ...    3.000000    1.000000\n",
              "max     77.000000              192.000000  ...    3.000000    1.000000\n",
              "\n",
              "[8 rows x 10 columns]"
            ]
          },
          "metadata": {},
          "execution_count": 363
        }
      ]
    },
    {
      "cell_type": "code",
      "metadata": {
        "colab": {
          "base_uri": "https://localhost:8080/",
          "height": 172
        },
        "id": "wbxe6hifI2eq",
        "outputId": "e9ebd818-468a-41ba-9341-866acd6c26b4"
      },
      "source": [
        "dt.describe(include =[np.object])"
      ],
      "execution_count": 364,
      "outputs": [
        {
          "output_type": "execute_result",
          "data": {
            "text/html": [
              "<div>\n",
              "<style scoped>\n",
              "    .dataframe tbody tr th:only-of-type {\n",
              "        vertical-align: middle;\n",
              "    }\n",
              "\n",
              "    .dataframe tbody tr th {\n",
              "        vertical-align: top;\n",
              "    }\n",
              "\n",
              "    .dataframe thead th {\n",
              "        text-align: right;\n",
              "    }\n",
              "</style>\n",
              "<table border=\"1\" class=\"dataframe\">\n",
              "  <thead>\n",
              "    <tr style=\"text-align: right;\">\n",
              "      <th></th>\n",
              "      <th>sex</th>\n",
              "      <th>chest_pain_type</th>\n",
              "      <th>rest_ecg</th>\n",
              "      <th>st_slope</th>\n",
              "    </tr>\n",
              "  </thead>\n",
              "  <tbody>\n",
              "    <tr>\n",
              "      <th>count</th>\n",
              "      <td>282</td>\n",
              "      <td>282</td>\n",
              "      <td>282</td>\n",
              "      <td>282</td>\n",
              "    </tr>\n",
              "    <tr>\n",
              "      <th>unique</th>\n",
              "      <td>2</td>\n",
              "      <td>4</td>\n",
              "      <td>3</td>\n",
              "      <td>2</td>\n",
              "    </tr>\n",
              "    <tr>\n",
              "      <th>top</th>\n",
              "      <td>male</td>\n",
              "      <td>typical angina</td>\n",
              "      <td>ST-T wave abnormality</td>\n",
              "      <td>flat</td>\n",
              "    </tr>\n",
              "    <tr>\n",
              "      <th>freq</th>\n",
              "      <td>191</td>\n",
              "      <td>132</td>\n",
              "      <td>144</td>\n",
              "      <td>142</td>\n",
              "    </tr>\n",
              "  </tbody>\n",
              "</table>\n",
              "</div>"
            ],
            "text/plain": [
              "         sex chest_pain_type               rest_ecg st_slope\n",
              "count    282             282                    282      282\n",
              "unique     2               4                      3        2\n",
              "top     male  typical angina  ST-T wave abnormality     flat\n",
              "freq     191             132                    144      142"
            ]
          },
          "metadata": {},
          "execution_count": 364
        }
      ]
    },
    {
      "cell_type": "code",
      "metadata": {
        "colab": {
          "base_uri": "https://localhost:8080/",
          "height": 390
        },
        "id": "tCUkKvRKI5-b",
        "outputId": "3c35b23e-7ab9-488e-b557-5a934f9915a2"
      },
      "source": [
        "fig, (ax1, ax2) = plt.subplots(nrows=1, ncols=2, sharey=False, figsize=(14,6))\n",
        "\n",
        "ax1 = dt['target'].value_counts().plot.pie( x=\"Heart disease\" ,y ='no.of patients', \n",
        "                   autopct = \"%1.0f%%\",labels=[\"Heart Disease\",\"Normal\"], startangle = 60,ax=ax1);\n",
        "ax1.set(title = 'Percentage of Heart disease patients in Dataset')\n",
        "\n",
        "ax2 = dt[\"target\"].value_counts().plot(kind=\"barh\" ,ax =ax2)\n",
        "for i,j in enumerate(dt[\"target\"].value_counts().values):\n",
        "    ax2.text(.5,i,j,fontsize=12)\n",
        "ax2.set(title = 'No. of Heart disease patients in Dataset')\n",
        "plt.show()"
      ],
      "execution_count": 365,
      "outputs": [
        {
          "output_type": "display_data",
          "data": {
            "image/png": "[encoded data removed]",
            "text/plain": [
              "<Figure size 1008x432 with 2 Axes>"
            ]
          },
          "metadata": {
            "needs_background": "light"
          }
        }
      ]
    },
    {
      "cell_type": "code",
      "metadata": {
        "colab": {
          "base_uri": "https://localhost:8080/",
          "height": 462
        },
        "id": "FIY0XELkI8qr",
        "outputId": "f18603da-5f5e-4917-9786-12cd111b41fc"
      },
      "source": [
        "plt.figure(figsize=(18,12))\n",
        "plt.subplot(221)\n",
        "dt[\"sex\"].value_counts().plot.pie(autopct = \"%1.0f%%\",colors = sns.color_palette(\"prism\",5),startangle = 60,labels=[\"Male\",\"Female\"],\n",
        "wedgeprops={\"linewidth\":2,\"edgecolor\":\"k\"},explode=[.1,.1],shadow =True)\n",
        "plt.title(\"Distribution of Gender\")\n",
        "plt.subplot(222)\n",
        "ax= sns.distplot(dt['age'], rug=True)\n",
        "plt.title(\"Age wise distribution\")\n",
        "plt.show()"
      ],
      "execution_count": 366,
      "outputs": [
        {
          "output_type": "stream",
          "name": "stderr",
          "text": [
            "/usr/local/lib/python3.7/dist-packages/seaborn/distributions.py:2619: FutureWarning: `distplot` is a deprecated function and will be removed in a future version. Please adapt your code to use either `displot` (a figure-level function with similar flexibility) or `histplot` (an axes-level function for histograms).\n",
            "  warnings.warn(msg, FutureWarning)\n",
            "/usr/local/lib/python3.7/dist-packages/seaborn/distributions.py:2103: FutureWarning: The `axis` variable is no longer used and will be removed. Instead, assign variables directly to `x` or `y`.\n",
            "  warnings.warn(msg, FutureWarning)\n"
          ]
        },
        {
          "output_type": "display_data",
          "data": {
            "image/png": "[encoded data removed]",
            "text/plain": [
              "<Figure size 1296x864 with 2 Axes>"
            ]
          },
          "metadata": {
            "needs_background": "light"
          }
        }
      ]
    },
    {
      "cell_type": "code",
      "metadata": {
        "colab": {
          "base_uri": "https://localhost:8080/",
          "height": 842
        },
        "id": "uTmcbKJZJBN1",
        "outputId": "86f40652-335b-461e-f645-1282663489ce"
      },
      "source": [
        "attr_1=dt[dt['target']==1]\n",
        "\n",
        "attr_0=dt[dt['target']==0]\n",
        "\n",
        "# plotting normal patients\n",
        "fig = plt.figure(figsize=(15,5))\n",
        "ax1 = plt.subplot2grid((1,2),(0,0))\n",
        "sns.distplot(attr_0['age'])\n",
        "plt.title('AGE DISTRIBUTION OF NORMAL PATIENTS', fontsize=15, weight='bold')\n",
        "\n",
        "ax1 = plt.subplot2grid((1,2),(0,1))\n",
        "sns.countplot(attr_0['sex'], palette='viridis')\n",
        "plt.title('GENDER DISTRIBUTION OF NORMAL PATIENTS', fontsize=15, weight='bold' )\n",
        "plt.show()\n",
        "\n",
        "#plotting heart patients\n",
        "\n",
        "fig = plt.figure(figsize=(15,5))\n",
        "ax1 = plt.subplot2grid((1,2),(0,0))\n",
        "sns.distplot(attr_1['age'])\n",
        "plt.title('AGE DISTRIBUTION OF HEART DISEASE PATIENTS', fontsize=15, weight='bold')\n",
        "\n",
        "ax1 = plt.subplot2grid((1,2),(0,1))\n",
        "sns.countplot(attr_1['sex'], palette='viridis')\n",
        "plt.title('GENDER DISTRIBUTION OF HEART DISEASE PATIENTS', fontsize=15, weight='bold' )\n",
        "plt.show()"
      ],
      "execution_count": 367,
      "outputs": [
        {
          "output_type": "stream",
          "name": "stderr",
          "text": [
            "/usr/local/lib/python3.7/dist-packages/seaborn/distributions.py:2619: FutureWarning: `distplot` is a deprecated function and will be removed in a future version. Please adapt your code to use either `displot` (a figure-level function with similar flexibility) or `histplot` (an axes-level function for histograms).\n",
            "  warnings.warn(msg, FutureWarning)\n",
            "/usr/local/lib/python3.7/dist-packages/seaborn/_decorators.py:43: FutureWarning: Pass the following variable as a keyword arg: x. From version 0.12, the only valid positional argument will be `data`, and passing other arguments without an explicit keyword will result in an error or misinterpretation.\n",
            "  FutureWarning\n"
          ]
        },
        {
          "output_type": "display_data",
          "data": {
            "image/png": "[encoded data removed]",
            "text/plain": [
              "<Figure size 1080x360 with 2 Axes>"
            ]
          },
          "metadata": {
            "needs_background": "light"
          }
        },
        {
          "output_type": "stream",
          "name": "stderr",
          "text": [
            "/usr/local/lib/python3.7/dist-packages/seaborn/distributions.py:2619: FutureWarning: `distplot` is a deprecated function and will be removed in a future version. Please adapt your code to use either `displot` (a figure-level function with similar flexibility) or `histplot` (an axes-level function for histograms).\n",
            "  warnings.warn(msg, FutureWarning)\n",
            "/usr/local/lib/python3.7/dist-packages/seaborn/_decorators.py:43: FutureWarning: Pass the following variable as a keyword arg: x. From version 0.12, the only valid positional argument will be `data`, and passing other arguments without an explicit keyword will result in an error or misinterpretation.\n",
            "  FutureWarning\n"
          ]
        },
        {
          "output_type": "display_data",
          "data": {
            "image/png": "[encoded data removed]",
            "text/plain": [
              "<Figure size 1080x360 with 2 Axes>"
            ]
          },
          "metadata": {
            "needs_background": "light"
          }
        }
      ]
    },
    {
      "cell_type": "code",
      "metadata": {
        "colab": {
          "base_uri": "https://localhost:8080/",
          "height": 440
        },
        "id": "Ln_na_9YJFQm",
        "outputId": "6988b4be-ec91-41d5-a5ba-869eb88a2626"
      },
      "source": [
        "# plotting normal patients\n",
        "fig = plt.figure(figsize=(15,5))\n",
        "ax1 = plt.subplot2grid((1,2),(0,0))\n",
        "sns.countplot(attr_0['chest_pain_type'])\n",
        "plt.title('CHEST PAIN OF NORMAL PATIENTS', fontsize=15, weight='bold')\n",
        "\n",
        "#plotting heart patients\n",
        "ax1 = plt.subplot2grid((1,2),(0,1))\n",
        "sns.countplot(attr_1['chest_pain_type'], palette='viridis')\n",
        "plt.title('CHEST PAIN OF HEART PATIENTS', fontsize=15, weight='bold' )\n",
        "plt.show()"
      ],
      "execution_count": 368,
      "outputs": [
        {
          "output_type": "stream",
          "name": "stderr",
          "text": [
            "/usr/local/lib/python3.7/dist-packages/seaborn/_decorators.py:43: FutureWarning: Pass the following variable as a keyword arg: x. From version 0.12, the only valid positional argument will be `data`, and passing other arguments without an explicit keyword will result in an error or misinterpretation.\n",
            "  FutureWarning\n",
            "/usr/local/lib/python3.7/dist-packages/seaborn/_decorators.py:43: FutureWarning: Pass the following variable as a keyword arg: x. From version 0.12, the only valid positional argument will be `data`, and passing other arguments without an explicit keyword will result in an error or misinterpretation.\n",
            "  FutureWarning\n"
          ]
        },
        {
          "output_type": "display_data",
          "data": {
            "image/png": "[encoded data removed]",
            "text/plain": [
              "<Figure size 1080x360 with 2 Axes>"
            ]
          },
          "metadata": {
            "needs_background": "light"
          }
        }
      ]
    },
    {
      "cell_type": "code",
      "metadata": {
        "colab": {
          "base_uri": "https://localhost:8080/",
          "height": 203
        },
        "id": "sMJzIx7tJOOO",
        "outputId": "36adfaf6-acfe-4e43-e5da-f3f7bb9c2998"
      },
      "source": [
        "#Exploring the Heart Disease patients based on Chest Pain Type\n",
        "plot_criteria= ['chest_pain_type', 'target']\n",
        "cm = sns.light_palette(\"red\", as_cmap=True)\n",
        "(round(pd.crosstab(dt[plot_criteria[0]], dt[plot_criteria[1]], normalize='columns') * 100,2)).style.background_gradient(cmap = cm)"
      ],
      "execution_count": 369,
      "outputs": [
        {
          "output_type": "execute_result",
          "data": {
            "text/html": [
              "<style  type=\"text/css\" >\n",
              "#T_8c43b490_381f_11ec_8410_0242ac1c0002row0_col0,#T_8c43b490_381f_11ec_8410_0242ac1c0002row0_col1{\n",
              "            background-color:  #f3f0f0;\n",
              "            color:  #000000;\n",
              "        }#T_8c43b490_381f_11ec_8410_0242ac1c0002row1_col0{\n",
              "            background-color:  #f3eeee;\n",
              "            color:  #000000;\n",
              "        }#T_8c43b490_381f_11ec_8410_0242ac1c0002row1_col1{\n",
              "            background-color:  #f97171;\n",
              "            color:  #000000;\n",
              "        }#T_8c43b490_381f_11ec_8410_0242ac1c0002row2_col0{\n",
              "            background-color:  #f4d2d2;\n",
              "            color:  #000000;\n",
              "        }#T_8c43b490_381f_11ec_8410_0242ac1c0002row2_col1,#T_8c43b490_381f_11ec_8410_0242ac1c0002row3_col0{\n",
              "            background-color:  #ff0000;\n",
              "            color:  #f1f1f1;\n",
              "        }#T_8c43b490_381f_11ec_8410_0242ac1c0002row3_col1{\n",
              "            background-color:  #f97676;\n",
              "            color:  #000000;\n",
              "        }</style><table id=\"T_8c43b490_381f_11ec_8410_0242ac1c0002\" class=\"dataframe\"><thead>    <tr>        <th class=\"index_name level0\" >target</th>        <th class=\"col_heading level0 col0\" >0</th>        <th class=\"col_heading level0 col1\" >1</th>    </tr>    <tr>        <th class=\"index_name level0\" >chest_pain_type</th>        <th class=\"blank\" ></th>        <th class=\"blank\" ></th>    </tr></thead><tbody>\n",
              "                <tr>\n",
              "                        <th id=\"T_8c43b490_381f_11ec_8410_0242ac1c0002level0_row0\" class=\"row_heading level0 row0\" >asymptomatic</th>\n",
              "                        <td id=\"T_8c43b490_381f_11ec_8410_0242ac1c0002row0_col0\" class=\"data row0 col0\" >5.560000</td>\n",
              "                        <td id=\"T_8c43b490_381f_11ec_8410_0242ac1c0002row0_col1\" class=\"data row0 col1\" >8.330000</td>\n",
              "            </tr>\n",
              "            <tr>\n",
              "                        <th id=\"T_8c43b490_381f_11ec_8410_0242ac1c0002level0_row1\" class=\"row_heading level0 row1\" >atypical angina</th>\n",
              "                        <td id=\"T_8c43b490_381f_11ec_8410_0242ac1c0002row1_col0\" class=\"data row1 col0\" >6.350000</td>\n",
              "                        <td id=\"T_8c43b490_381f_11ec_8410_0242ac1c0002row1_col1\" class=\"data row1 col1\" >25.640000</td>\n",
              "            </tr>\n",
              "            <tr>\n",
              "                        <th id=\"T_8c43b490_381f_11ec_8410_0242ac1c0002level0_row2\" class=\"row_heading level0 row2\" >non-anginal pain</th>\n",
              "                        <td id=\"T_8c43b490_381f_11ec_8410_0242ac1c0002row2_col0\" class=\"data row2 col0\" >14.290000</td>\n",
              "                        <td id=\"T_8c43b490_381f_11ec_8410_0242ac1c0002row2_col1\" class=\"data row2 col1\" >41.030000</td>\n",
              "            </tr>\n",
              "            <tr>\n",
              "                        <th id=\"T_8c43b490_381f_11ec_8410_0242ac1c0002level0_row3\" class=\"row_heading level0 row3\" >typical angina</th>\n",
              "                        <td id=\"T_8c43b490_381f_11ec_8410_0242ac1c0002row3_col0\" class=\"data row3 col0\" >73.810000</td>\n",
              "                        <td id=\"T_8c43b490_381f_11ec_8410_0242ac1c0002row3_col1\" class=\"data row3 col1\" >25.000000</td>\n",
              "            </tr>\n",
              "    </tbody></table>"
            ],
            "text/plain": [
              "<pandas.io.formats.style.Styler at 0x7fdb4ef3d450>"
            ]
          },
          "metadata": {},
          "execution_count": 369
        }
      ]
    },
    {
      "cell_type": "code",
      "metadata": {
        "colab": {
          "base_uri": "https://localhost:8080/",
          "height": 439
        },
        "id": "fLdnCsr_JU7i",
        "outputId": "45959552-1cdf-45ae-d77c-83529826e05b"
      },
      "source": [
        "# plotting normal patients\n",
        "fig = plt.figure(figsize=(15,5))\n",
        "ax1 = plt.subplot2grid((1,2),(0,0))\n",
        "sns.countplot(attr_0['rest_ecg'])\n",
        "plt.title('REST ECG OF NORMAL PATIENTS', fontsize=15, weight='bold')\n",
        "\n",
        "#plotting heart patients\n",
        "ax1 = plt.subplot2grid((1,2),(0,1))\n",
        "sns.countplot(attr_1['rest_ecg'], palette='viridis')\n",
        "plt.title('REST ECG OF HEART PATIENTS', fontsize=15, weight='bold' )\n",
        "plt.show()"
      ],
      "execution_count": 370,
      "outputs": [
        {
          "output_type": "stream",
          "name": "stderr",
          "text": [
            "/usr/local/lib/python3.7/dist-packages/seaborn/_decorators.py:43: FutureWarning: Pass the following variable as a keyword arg: x. From version 0.12, the only valid positional argument will be `data`, and passing other arguments without an explicit keyword will result in an error or misinterpretation.\n",
            "  FutureWarning\n",
            "/usr/local/lib/python3.7/dist-packages/seaborn/_decorators.py:43: FutureWarning: Pass the following variable as a keyword arg: x. From version 0.12, the only valid positional argument will be `data`, and passing other arguments without an explicit keyword will result in an error or misinterpretation.\n",
            "  FutureWarning\n"
          ]
        },
        {
          "output_type": "display_data",
          "data": {
            "image/png": "[encoded data removed]",
            "text/plain": [
              "<Figure size 1080x360 with 2 Axes>"
            ]
          },
          "metadata": {
            "needs_background": "light"
          }
        }
      ]
    },
    {
      "cell_type": "code",
      "metadata": {
        "colab": {
          "base_uri": "https://localhost:8080/",
          "height": 172
        },
        "id": "Ot83lrSKJZIy",
        "outputId": "aec11ee1-8bba-4321-f6ba-1a0b8e0d47bc"
      },
      "source": [
        "#Exploring the Heart Disease patients based on REST ECG\n",
        "plot_criteria= ['rest_ecg', 'target']\n",
        "cm = sns.light_palette(\"red\", as_cmap=True)\n",
        "(round(pd.crosstab(dt[plot_criteria[0]], dt[plot_criteria[1]], normalize='columns') * 100,2)).style.background_gradient(cmap = cm)"
      ],
      "execution_count": 371,
      "outputs": [
        {
          "output_type": "execute_result",
          "data": {
            "text/html": [
              "<style  type=\"text/css\" >\n",
              "#T_8c6de2b0_381f_11ec_8410_0242ac1c0002row0_col0{\n",
              "            background-color:  #fc4545;\n",
              "            color:  #000000;\n",
              "        }#T_8c6de2b0_381f_11ec_8410_0242ac1c0002row0_col1,#T_8c6de2b0_381f_11ec_8410_0242ac1c0002row2_col0{\n",
              "            background-color:  #ff0000;\n",
              "            color:  #f1f1f1;\n",
              "        }#T_8c6de2b0_381f_11ec_8410_0242ac1c0002row1_col0,#T_8c6de2b0_381f_11ec_8410_0242ac1c0002row1_col1{\n",
              "            background-color:  #f3f0f0;\n",
              "            color:  #000000;\n",
              "        }#T_8c6de2b0_381f_11ec_8410_0242ac1c0002row2_col1{\n",
              "            background-color:  #fb4c4c;\n",
              "            color:  #000000;\n",
              "        }</style><table id=\"T_8c6de2b0_381f_11ec_8410_0242ac1c0002\" class=\"dataframe\"><thead>    <tr>        <th class=\"index_name level0\" >target</th>        <th class=\"col_heading level0 col0\" >0</th>        <th class=\"col_heading level0 col1\" >1</th>    </tr>    <tr>        <th class=\"index_name level0\" >rest_ecg</th>        <th class=\"blank\" ></th>        <th class=\"blank\" ></th>    </tr></thead><tbody>\n",
              "                <tr>\n",
              "                        <th id=\"T_8c6de2b0_381f_11ec_8410_0242ac1c0002level0_row0\" class=\"row_heading level0 row0\" >ST-T wave abnormality</th>\n",
              "                        <td id=\"T_8c6de2b0_381f_11ec_8410_0242ac1c0002row0_col0\" class=\"data row0 col0\" >41.270000</td>\n",
              "                        <td id=\"T_8c6de2b0_381f_11ec_8410_0242ac1c0002row0_col1\" class=\"data row0 col1\" >58.970000</td>\n",
              "            </tr>\n",
              "            <tr>\n",
              "                        <th id=\"T_8c6de2b0_381f_11ec_8410_0242ac1c0002level0_row1\" class=\"row_heading level0 row1\" >left ventricular hypertrophy</th>\n",
              "                        <td id=\"T_8c6de2b0_381f_11ec_8410_0242ac1c0002row1_col0\" class=\"data row1 col0\" >1.590000</td>\n",
              "                        <td id=\"T_8c6de2b0_381f_11ec_8410_0242ac1c0002row1_col1\" class=\"data row1 col1\" >0.640000</td>\n",
              "            </tr>\n",
              "            <tr>\n",
              "                        <th id=\"T_8c6de2b0_381f_11ec_8410_0242ac1c0002level0_row2\" class=\"row_heading level0 row2\" >normal</th>\n",
              "                        <td id=\"T_8c6de2b0_381f_11ec_8410_0242ac1c0002row2_col0\" class=\"data row2 col0\" >57.140000</td>\n",
              "                        <td id=\"T_8c6de2b0_381f_11ec_8410_0242ac1c0002row2_col1\" class=\"data row2 col1\" >40.380000</td>\n",
              "            </tr>\n",
              "    </tbody></table>"
            ],
            "text/plain": [
              "<pandas.io.formats.style.Styler at 0x7fdb4eabb1d0>"
            ]
          },
          "metadata": {},
          "execution_count": 371
        }
      ]
    },
    {
      "cell_type": "code",
      "metadata": {
        "colab": {
          "base_uri": "https://localhost:8080/",
          "height": 440
        },
        "id": "RaCr5WipJdJZ",
        "outputId": "d6039578-afa0-47b8-a586-036f9766c93b"
      },
      "source": [
        "# plotting normal patients\n",
        "fig = plt.figure(figsize=(15,5))\n",
        "ax1 = plt.subplot2grid((1,2),(0,0))\n",
        "sns.countplot(attr_0['st_slope'])\n",
        "plt.title('ST SLOPE OF NORMAL PATIENTS', fontsize=15, weight='bold')\n",
        "\n",
        "#plotting heart patients\n",
        "ax1 = plt.subplot2grid((1,2),(0,1))\n",
        "sns.countplot(attr_1['st_slope'], palette='viridis')\n",
        "plt.title('ST SLOPE OF HEART PATIENTS', fontsize=15, weight='bold' )\n",
        "plt.show()"
      ],
      "execution_count": 372,
      "outputs": [
        {
          "output_type": "stream",
          "name": "stderr",
          "text": [
            "/usr/local/lib/python3.7/dist-packages/seaborn/_decorators.py:43: FutureWarning: Pass the following variable as a keyword arg: x. From version 0.12, the only valid positional argument will be `data`, and passing other arguments without an explicit keyword will result in an error or misinterpretation.\n",
            "  FutureWarning\n",
            "/usr/local/lib/python3.7/dist-packages/seaborn/_decorators.py:43: FutureWarning: Pass the following variable as a keyword arg: x. From version 0.12, the only valid positional argument will be `data`, and passing other arguments without an explicit keyword will result in an error or misinterpretation.\n",
            "  FutureWarning\n"
          ]
        },
        {
          "output_type": "display_data",
          "data": {
            "image/png": "[encoded data removed]",
            "text/plain": [
              "<Figure size 1080x360 with 2 Axes>"
            ]
          },
          "metadata": {
            "needs_background": "light"
          }
        }
      ]
    },
    {
      "cell_type": "code",
      "metadata": {
        "colab": {
          "base_uri": "https://localhost:8080/",
          "height": 142
        },
        "id": "VMwYQ8B2JhN3",
        "outputId": "f224d729-002a-4ce8-b407-0b5230cab8d3"
      },
      "source": [
        "#Exploring the Heart Disease patients based on ST Slope\n",
        "plot_criteria= ['st_slope', 'target']\n",
        "cm = sns.light_palette(\"red\", as_cmap=True)\n",
        "(round(pd.crosstab(dt[plot_criteria[0]], dt[plot_criteria[1]], normalize='columns') * 100,2)).style.background_gradient(cmap = cm)"
      ],
      "execution_count": 373,
      "outputs": [
        {
          "output_type": "execute_result",
          "data": {
            "text/html": [
              "<style  type=\"text/css\" >\n",
              "#T_8c94c506_381f_11ec_8410_0242ac1c0002row0_col0,#T_8c94c506_381f_11ec_8410_0242ac1c0002row1_col1{\n",
              "            background-color:  #f3f0f0;\n",
              "            color:  #000000;\n",
              "        }#T_8c94c506_381f_11ec_8410_0242ac1c0002row0_col1,#T_8c94c506_381f_11ec_8410_0242ac1c0002row1_col0{\n",
              "            background-color:  #ff0000;\n",
              "            color:  #f1f1f1;\n",
              "        }</style><table id=\"T_8c94c506_381f_11ec_8410_0242ac1c0002\" class=\"dataframe\"><thead>    <tr>        <th class=\"index_name level0\" >target</th>        <th class=\"col_heading level0 col0\" >0</th>        <th class=\"col_heading level0 col1\" >1</th>    </tr>    <tr>        <th class=\"index_name level0\" >st_slope</th>        <th class=\"blank\" ></th>        <th class=\"blank\" ></th>    </tr></thead><tbody>\n",
              "                <tr>\n",
              "                        <th id=\"T_8c94c506_381f_11ec_8410_0242ac1c0002level0_row0\" class=\"row_heading level0 row0\" >flat</th>\n",
              "                        <td id=\"T_8c94c506_381f_11ec_8410_0242ac1c0002row0_col0\" class=\"data row0 col0\" >27.780000</td>\n",
              "                        <td id=\"T_8c94c506_381f_11ec_8410_0242ac1c0002row0_col1\" class=\"data row0 col1\" >68.590000</td>\n",
              "            </tr>\n",
              "            <tr>\n",
              "                        <th id=\"T_8c94c506_381f_11ec_8410_0242ac1c0002level0_row1\" class=\"row_heading level0 row1\" >upsloping</th>\n",
              "                        <td id=\"T_8c94c506_381f_11ec_8410_0242ac1c0002row1_col0\" class=\"data row1 col0\" >72.220000</td>\n",
              "                        <td id=\"T_8c94c506_381f_11ec_8410_0242ac1c0002row1_col1\" class=\"data row1 col1\" >31.410000</td>\n",
              "            </tr>\n",
              "    </tbody></table>"
            ],
            "text/plain": [
              "<pandas.io.formats.style.Styler at 0x7fdb4e907110>"
            ]
          },
          "metadata": {},
          "execution_count": 373
        }
      ]
    },
    {
      "cell_type": "code",
      "metadata": {
        "colab": {
          "base_uri": "https://localhost:8080/",
          "height": 567
        },
        "id": "-eq67ZTzJqmP",
        "outputId": "43d74314-6913-42c7-9d41-8cf2eef59c29"
      },
      "source": [
        "sns.pairplot(dt, hue = 'target', vars = ['age', 'resting_blood_pressure', 'cholesterol'] )"
      ],
      "execution_count": 374,
      "outputs": [
        {
          "output_type": "execute_result",
          "data": {
            "text/plain": [
              "<seaborn.axisgrid.PairGrid at 0x7fdb4e9077d0>"
            ]
          },
          "metadata": {},
          "execution_count": 374
        },
        {
          "output_type": "display_data",
          "data": {
            "image/png": "[encoded data removed]",
            "text/plain": [
              "<Figure size 582.375x540 with 12 Axes>"
            ]
          },
          "metadata": {
            "needs_background": "light"
          }
        }
      ]
    },
    {
      "cell_type": "code",
      "metadata": {
        "colab": {
          "base_uri": "https://localhost:8080/",
          "height": 297
        },
        "id": "gfXQWdDnJye-",
        "outputId": "3c1d5304-35db-4b29-f8e1-b997661dc2e1"
      },
      "source": [
        "sns.scatterplot(x = 'resting_blood_pressure', y = 'cholesterol', hue = 'target', data = dt)"
      ],
      "execution_count": 375,
      "outputs": [
        {
          "output_type": "execute_result",
          "data": {
            "text/plain": [
              "<matplotlib.axes._subplots.AxesSubplot at 0x7fdb4ea6ccd0>"
            ]
          },
          "metadata": {},
          "execution_count": 375
        },
        {
          "output_type": "display_data",
          "data": {
            "image/png": "[encoded data removed]",
            "text/plain": [
              "<Figure size 432x288 with 1 Axes>"
            ]
          },
          "metadata": {
            "needs_background": "light"
          }
        }
      ]
    },
    {
      "cell_type": "code",
      "metadata": {
        "colab": {
          "base_uri": "https://localhost:8080/",
          "height": 297
        },
        "id": "IPz2ZuWTJ5BN",
        "outputId": "999a913d-63d4-4b7d-e05b-f35730885bd7"
      },
      "source": [
        "sns.scatterplot(x = 'resting_blood_pressure', y = 'age', hue = 'target', data = dt)"
      ],
      "execution_count": 376,
      "outputs": [
        {
          "output_type": "execute_result",
          "data": {
            "text/plain": [
              "<matplotlib.axes._subplots.AxesSubplot at 0x7fdb4fed68d0>"
            ]
          },
          "metadata": {},
          "execution_count": 376
        },
        {
          "output_type": "display_data",
          "data": {
            "image/png": "[encoded data removed]",
            "text/plain": [
              "<Figure size 432x288 with 1 Axes>"
            ]
          },
          "metadata": {
            "needs_background": "light"
          }
        }
      ]
    },
    {
      "cell_type": "code",
      "metadata": {
        "id": "On4AIOLeJ7q1"
      },
      "source": [
        "dt_numeric = dt[['age','resting_blood_pressure','cholesterol','max_heart_rate_achieved']]"
      ],
      "execution_count": 377,
      "outputs": []
    },
    {
      "cell_type": "code",
      "metadata": {
        "colab": {
          "base_uri": "https://localhost:8080/",
          "height": 203
        },
        "id": "VKEms5PVKCqG",
        "outputId": "39591259-9e4a-4e0b-bd31-b7b8d6791787"
      },
      "source": [
        "dt_numeric.head()"
      ],
      "execution_count": 378,
      "outputs": [
        {
          "output_type": "execute_result",
          "data": {
            "text/html": [
              "<div>\n",
              "<style scoped>\n",
              "    .dataframe tbody tr th:only-of-type {\n",
              "        vertical-align: middle;\n",
              "    }\n",
              "\n",
              "    .dataframe tbody tr th {\n",
              "        vertical-align: top;\n",
              "    }\n",
              "\n",
              "    .dataframe thead th {\n",
              "        text-align: right;\n",
              "    }\n",
              "</style>\n",
              "<table border=\"1\" class=\"dataframe\">\n",
              "  <thead>\n",
              "    <tr style=\"text-align: right;\">\n",
              "      <th></th>\n",
              "      <th>age</th>\n",
              "      <th>resting_blood_pressure</th>\n",
              "      <th>cholesterol</th>\n",
              "      <th>max_heart_rate_achieved</th>\n",
              "    </tr>\n",
              "  </thead>\n",
              "  <tbody>\n",
              "    <tr>\n",
              "      <th>2</th>\n",
              "      <td>41</td>\n",
              "      <td>130</td>\n",
              "      <td>204</td>\n",
              "      <td>172</td>\n",
              "    </tr>\n",
              "    <tr>\n",
              "      <th>3</th>\n",
              "      <td>56</td>\n",
              "      <td>120</td>\n",
              "      <td>236</td>\n",
              "      <td>178</td>\n",
              "    </tr>\n",
              "    <tr>\n",
              "      <th>4</th>\n",
              "      <td>57</td>\n",
              "      <td>120</td>\n",
              "      <td>354</td>\n",
              "      <td>163</td>\n",
              "    </tr>\n",
              "    <tr>\n",
              "      <th>5</th>\n",
              "      <td>57</td>\n",
              "      <td>140</td>\n",
              "      <td>192</td>\n",
              "      <td>148</td>\n",
              "    </tr>\n",
              "    <tr>\n",
              "      <th>6</th>\n",
              "      <td>56</td>\n",
              "      <td>140</td>\n",
              "      <td>294</td>\n",
              "      <td>153</td>\n",
              "    </tr>\n",
              "  </tbody>\n",
              "</table>\n",
              "</div>"
            ],
            "text/plain": [
              "   age  resting_blood_pressure  cholesterol  max_heart_rate_achieved\n",
              "2   41                     130          204                      172\n",
              "3   56                     120          236                      178\n",
              "4   57                     120          354                      163\n",
              "5   57                     140          192                      148\n",
              "6   56                     140          294                      153"
            ]
          },
          "metadata": {},
          "execution_count": 378
        }
      ]
    },
    {
      "cell_type": "code",
      "metadata": {
        "colab": {
          "base_uri": "https://localhost:8080/"
        },
        "id": "0PECDYIFKD98",
        "outputId": "9ef57a49-c7ed-486b-f326-f085e7f5f0c5"
      },
      "source": [
        "z = np.abs(stats.zscore(dt_numeric))\n",
        "print(z)"
      ],
      "execution_count": 379,
      "outputs": [
        {
          "output_type": "stream",
          "name": "stdout",
          "text": [
            "[[1.45580329 0.06118997 0.82323646 0.96981654]\n",
            " [0.1872191  0.65011733 0.20922821 1.23431196]\n",
            " [0.29675393 0.65011733 2.0549272  0.57307341]\n",
            " ...\n",
            " [1.50163701 0.76330833 1.03430179 0.39674313]\n",
            " [0.29675393 0.06118997 2.22394277 1.54288995]\n",
            " [0.29675393 0.06118997 0.20922821 1.05798168]]\n"
          ]
        }
      ]
    },
    {
      "cell_type": "code",
      "metadata": {
        "colab": {
          "base_uri": "https://localhost:8080/"
        },
        "id": "CVsTJJuAKGai",
        "outputId": "b8713b7c-e8ca-4597-ebed-cbcfb403830a"
      },
      "source": [
        "threshold = 3\n",
        "print(np.where(z > 3))"
      ],
      "execution_count": 380,
      "outputs": [
        {
          "output_type": "stream",
          "name": "stdout",
          "text": [
            "(array([ 25,  79, 206, 228, 230, 253]), array([2, 2, 2, 2, 1, 3]))\n"
          ]
        }
      ]
    },
    {
      "cell_type": "code",
      "metadata": {
        "id": "Hxw5oEz0KK2t"
      },
      "source": [
        "dt = dt[(z < 3).all(axis=1)]"
      ],
      "execution_count": 381,
      "outputs": []
    },
    {
      "cell_type": "code",
      "metadata": {
        "colab": {
          "base_uri": "https://localhost:8080/"
        },
        "id": "JAyjS2_1KN0S",
        "outputId": "582aa752-217e-4521-a7d3-a322c76e72a7"
      },
      "source": [
        "dt.shape"
      ],
      "execution_count": 382,
      "outputs": [
        {
          "output_type": "execute_result",
          "data": {
            "text/plain": [
              "(276, 14)"
            ]
          },
          "metadata": {},
          "execution_count": 382
        }
      ]
    },
    {
      "cell_type": "code",
      "metadata": {
        "colab": {
          "base_uri": "https://localhost:8080/",
          "height": 257
        },
        "id": "9Z_OXhpiKQIJ",
        "outputId": "de8a9e0d-cb43-401c-af3e-25a4ff543f41"
      },
      "source": [
        "dt = pd.get_dummies(dt, drop_first=True)\n",
        "\n",
        "dt.head()"
      ],
      "execution_count": 383,
      "outputs": [
        {
          "output_type": "execute_result",
          "data": {
            "text/html": [
              "<div>\n",
              "<style scoped>\n",
              "    .dataframe tbody tr th:only-of-type {\n",
              "        vertical-align: middle;\n",
              "    }\n",
              "\n",
              "    .dataframe tbody tr th {\n",
              "        vertical-align: top;\n",
              "    }\n",
              "\n",
              "    .dataframe thead th {\n",
              "        text-align: right;\n",
              "    }\n",
              "</style>\n",
              "<table border=\"1\" class=\"dataframe\">\n",
              "  <thead>\n",
              "    <tr style=\"text-align: right;\">\n",
              "      <th></th>\n",
              "      <th>age</th>\n",
              "      <th>resting_blood_pressure</th>\n",
              "      <th>cholesterol</th>\n",
              "      <th>fasting_blood_sugar</th>\n",
              "      <th>max_heart_rate_achieved</th>\n",
              "      <th>exercise_induced_angina</th>\n",
              "      <th>st_depression</th>\n",
              "      <th>caa</th>\n",
              "      <th>thall</th>\n",
              "      <th>target</th>\n",
              "      <th>sex_male</th>\n",
              "      <th>chest_pain_type_atypical angina</th>\n",
              "      <th>chest_pain_type_non-anginal pain</th>\n",
              "      <th>chest_pain_type_typical angina</th>\n",
              "      <th>rest_ecg_left ventricular hypertrophy</th>\n",
              "      <th>rest_ecg_normal</th>\n",
              "      <th>st_slope_upsloping</th>\n",
              "    </tr>\n",
              "  </thead>\n",
              "  <tbody>\n",
              "    <tr>\n",
              "      <th>2</th>\n",
              "      <td>41</td>\n",
              "      <td>130</td>\n",
              "      <td>204</td>\n",
              "      <td>0</td>\n",
              "      <td>172</td>\n",
              "      <td>0</td>\n",
              "      <td>1.4</td>\n",
              "      <td>0</td>\n",
              "      <td>2</td>\n",
              "      <td>1</td>\n",
              "      <td>0</td>\n",
              "      <td>1</td>\n",
              "      <td>0</td>\n",
              "      <td>0</td>\n",
              "      <td>0</td>\n",
              "      <td>1</td>\n",
              "      <td>0</td>\n",
              "    </tr>\n",
              "    <tr>\n",
              "      <th>3</th>\n",
              "      <td>56</td>\n",
              "      <td>120</td>\n",
              "      <td>236</td>\n",
              "      <td>0</td>\n",
              "      <td>178</td>\n",
              "      <td>0</td>\n",
              "      <td>0.8</td>\n",
              "      <td>0</td>\n",
              "      <td>2</td>\n",
              "      <td>1</td>\n",
              "      <td>1</td>\n",
              "      <td>1</td>\n",
              "      <td>0</td>\n",
              "      <td>0</td>\n",
              "      <td>0</td>\n",
              "      <td>0</td>\n",
              "      <td>0</td>\n",
              "    </tr>\n",
              "    <tr>\n",
              "      <th>4</th>\n",
              "      <td>57</td>\n",
              "      <td>120</td>\n",
              "      <td>354</td>\n",
              "      <td>0</td>\n",
              "      <td>163</td>\n",
              "      <td>1</td>\n",
              "      <td>0.6</td>\n",
              "      <td>0</td>\n",
              "      <td>2</td>\n",
              "      <td>1</td>\n",
              "      <td>0</td>\n",
              "      <td>0</td>\n",
              "      <td>0</td>\n",
              "      <td>1</td>\n",
              "      <td>0</td>\n",
              "      <td>0</td>\n",
              "      <td>0</td>\n",
              "    </tr>\n",
              "    <tr>\n",
              "      <th>5</th>\n",
              "      <td>57</td>\n",
              "      <td>140</td>\n",
              "      <td>192</td>\n",
              "      <td>0</td>\n",
              "      <td>148</td>\n",
              "      <td>0</td>\n",
              "      <td>0.4</td>\n",
              "      <td>0</td>\n",
              "      <td>1</td>\n",
              "      <td>1</td>\n",
              "      <td>1</td>\n",
              "      <td>0</td>\n",
              "      <td>0</td>\n",
              "      <td>1</td>\n",
              "      <td>0</td>\n",
              "      <td>0</td>\n",
              "      <td>1</td>\n",
              "    </tr>\n",
              "    <tr>\n",
              "      <th>6</th>\n",
              "      <td>56</td>\n",
              "      <td>140</td>\n",
              "      <td>294</td>\n",
              "      <td>0</td>\n",
              "      <td>153</td>\n",
              "      <td>0</td>\n",
              "      <td>1.3</td>\n",
              "      <td>0</td>\n",
              "      <td>2</td>\n",
              "      <td>1</td>\n",
              "      <td>0</td>\n",
              "      <td>1</td>\n",
              "      <td>0</td>\n",
              "      <td>0</td>\n",
              "      <td>0</td>\n",
              "      <td>1</td>\n",
              "      <td>1</td>\n",
              "    </tr>\n",
              "  </tbody>\n",
              "</table>\n",
              "</div>"
            ],
            "text/plain": [
              "   age  resting_blood_pressure  ...  rest_ecg_normal  st_slope_upsloping\n",
              "2   41                     130  ...                1                   0\n",
              "3   56                     120  ...                0                   0\n",
              "4   57                     120  ...                0                   0\n",
              "5   57                     140  ...                0                   1\n",
              "6   56                     140  ...                1                   1\n",
              "\n",
              "[5 rows x 17 columns]"
            ]
          },
          "metadata": {},
          "execution_count": 383
        }
      ]
    },
    {
      "cell_type": "code",
      "metadata": {
        "id": "DwIHzh0ZKTAs"
      },
      "source": [
        "X = dt.drop(['target'],axis=1)\n",
        "y = dt['target']"
      ],
      "execution_count": 384,
      "outputs": []
    },
    {
      "cell_type": "code",
      "metadata": {
        "colab": {
          "base_uri": "https://localhost:8080/",
          "height": 568
        },
        "id": "DHzC4eCKKXir",
        "outputId": "7e85dac5-30b8-4feb-9700-b2057fdc0031"
      },
      "source": [
        "X.corrwith(y).plot.bar(\n",
        "        figsize = (16, 4), title = \"Correlation with Diabetes\", fontsize = 15,\n",
        "        rot = 90, grid = True)"
      ],
      "execution_count": 385,
      "outputs": [
        {
          "output_type": "execute_result",
          "data": {
            "text/plain": [
              "<matplotlib.axes._subplots.AxesSubplot at 0x7fdb4f0793d0>"
            ]
          },
          "metadata": {},
          "execution_count": 385
        },
        {
          "output_type": "display_data",
          "data": {
            "image/png": "[encoded data removed]",
            "text/plain": [
              "<Figure size 1152x288 with 1 Axes>"
            ]
          },
          "metadata": {
            "needs_background": "light"
          }
        }
      ]
    },
    {
      "cell_type": "code",
      "metadata": {
        "id": "dRsoG5RFKakB"
      },
      "source": [
        "X_train, X_test, y_train, y_test = train_test_split(X, y, stratify=y, test_size=0.2,shuffle=True, random_state=5)"
      ],
      "execution_count": 386,
      "outputs": []
    },
    {
      "cell_type": "code",
      "metadata": {
        "colab": {
          "base_uri": "https://localhost:8080/"
        },
        "id": "QEGszyFjKfR6",
        "outputId": "59916ef1-5255-488b-a85d-ad65bbe4d793"
      },
      "source": [
        "print('Distribution of traget variable in training set')\n",
        "print(y_train.value_counts())\n",
        "\n",
        "print('Distribution of traget variable in test set')\n",
        "print(y_test.value_counts())"
      ],
      "execution_count": 387,
      "outputs": [
        {
          "output_type": "stream",
          "name": "stdout",
          "text": [
            "Distribution of traget variable in training set\n",
            "1    123\n",
            "0     97\n",
            "Name: target, dtype: int64\n",
            "Distribution of traget variable in test set\n",
            "1    31\n",
            "0    25\n",
            "Name: target, dtype: int64\n"
          ]
        }
      ]
    },
    {
      "cell_type": "code",
      "metadata": {
        "colab": {
          "base_uri": "https://localhost:8080/"
        },
        "id": "9lJHWCmZKhfI",
        "outputId": "51cc91f8-3c4c-40eb-8a0f-dd0699dba113"
      },
      "source": [
        "print('------------Training Set------------------')\n",
        "print(X_train.shape)\n",
        "print(y_train.shape)\n",
        "\n",
        "print('------------Test Set------------------')\n",
        "print(X_test.shape)\n",
        "print(y_test.shape)"
      ],
      "execution_count": 388,
      "outputs": [
        {
          "output_type": "stream",
          "name": "stdout",
          "text": [
            "------------Training Set------------------\n",
            "(220, 16)\n",
            "(220,)\n",
            "------------Test Set------------------\n",
            "(56, 16)\n",
            "(56,)\n"
          ]
        }
      ]
    },
    {
      "cell_type": "code",
      "metadata": {
        "colab": {
          "base_uri": "https://localhost:8080/",
          "height": 458
        },
        "id": "9pBcZiFCKkTm",
        "outputId": "3b0378e1-34a5-4f15-cde4-487832617746"
      },
      "source": [
        "from sklearn.preprocessing import MinMaxScaler\n",
        "scaler = MinMaxScaler()\n",
        "X_train[['age','resting_blood_pressure','cholesterol','max_heart_rate_achieved','st_depression']] = scaler.fit_transform(X_train[['age','resting_blood_pressure','cholesterol','max_heart_rate_achieved','st_depression']])\n",
        "X_train.head()"
      ],
      "execution_count": 389,
      "outputs": [
        {
          "output_type": "stream",
          "name": "stderr",
          "text": [
            "/usr/local/lib/python3.7/dist-packages/ipykernel_launcher.py:3: SettingWithCopyWarning: \n",
            "A value is trying to be set on a copy of a slice from a DataFrame.\n",
            "Try using .loc[row_indexer,col_indexer] = value instead\n",
            "\n",
            "See the caveats in the documentation: https://pandas.pydata.org/pandas-docs/stable/user_guide/indexing.html#returning-a-view-versus-a-copy\n",
            "  This is separate from the ipykernel package so we can avoid doing imports until\n",
            "/usr/local/lib/python3.7/dist-packages/pandas/core/indexing.py:1734: SettingWithCopyWarning: \n",
            "A value is trying to be set on a copy of a slice from a DataFrame.\n",
            "Try using .loc[row_indexer,col_indexer] = value instead\n",
            "\n",
            "See the caveats in the documentation: https://pandas.pydata.org/pandas-docs/stable/user_guide/indexing.html#returning-a-view-versus-a-copy\n",
            "  isetter(loc, value[:, i].tolist())\n"
          ]
        },
        {
          "output_type": "execute_result",
          "data": {
            "text/html": [
              "<div>\n",
              "<style scoped>\n",
              "    .dataframe tbody tr th:only-of-type {\n",
              "        vertical-align: middle;\n",
              "    }\n",
              "\n",
              "    .dataframe tbody tr th {\n",
              "        vertical-align: top;\n",
              "    }\n",
              "\n",
              "    .dataframe thead th {\n",
              "        text-align: right;\n",
              "    }\n",
              "</style>\n",
              "<table border=\"1\" class=\"dataframe\">\n",
              "  <thead>\n",
              "    <tr style=\"text-align: right;\">\n",
              "      <th></th>\n",
              "      <th>age</th>\n",
              "      <th>resting_blood_pressure</th>\n",
              "      <th>cholesterol</th>\n",
              "      <th>fasting_blood_sugar</th>\n",
              "      <th>max_heart_rate_achieved</th>\n",
              "      <th>exercise_induced_angina</th>\n",
              "      <th>st_depression</th>\n",
              "      <th>caa</th>\n",
              "      <th>thall</th>\n",
              "      <th>sex_male</th>\n",
              "      <th>chest_pain_type_atypical angina</th>\n",
              "      <th>chest_pain_type_non-anginal pain</th>\n",
              "      <th>chest_pain_type_typical angina</th>\n",
              "      <th>rest_ecg_left ventricular hypertrophy</th>\n",
              "      <th>rest_ecg_normal</th>\n",
              "      <th>st_slope_upsloping</th>\n",
              "    </tr>\n",
              "  </thead>\n",
              "  <tbody>\n",
              "    <tr>\n",
              "      <th>186</th>\n",
              "      <td>0.645833</td>\n",
              "      <td>0.418605</td>\n",
              "      <td>0.473881</td>\n",
              "      <td>0</td>\n",
              "      <td>0.491228</td>\n",
              "      <td>1</td>\n",
              "      <td>0.35</td>\n",
              "      <td>1</td>\n",
              "      <td>3</td>\n",
              "      <td>1</td>\n",
              "      <td>0</td>\n",
              "      <td>0</td>\n",
              "      <td>1</td>\n",
              "      <td>0</td>\n",
              "      <td>0</td>\n",
              "      <td>0</td>\n",
              "    </tr>\n",
              "    <tr>\n",
              "      <th>123</th>\n",
              "      <td>0.520833</td>\n",
              "      <td>0.162791</td>\n",
              "      <td>0.526119</td>\n",
              "      <td>0</td>\n",
              "      <td>0.692982</td>\n",
              "      <td>0</td>\n",
              "      <td>0.00</td>\n",
              "      <td>0</td>\n",
              "      <td>2</td>\n",
              "      <td>0</td>\n",
              "      <td>0</td>\n",
              "      <td>1</td>\n",
              "      <td>0</td>\n",
              "      <td>0</td>\n",
              "      <td>1</td>\n",
              "      <td>0</td>\n",
              "    </tr>\n",
              "    <tr>\n",
              "      <th>81</th>\n",
              "      <td>0.333333</td>\n",
              "      <td>0.395349</td>\n",
              "      <td>0.679104</td>\n",
              "      <td>0</td>\n",
              "      <td>0.719298</td>\n",
              "      <td>0</td>\n",
              "      <td>0.00</td>\n",
              "      <td>0</td>\n",
              "      <td>2</td>\n",
              "      <td>1</td>\n",
              "      <td>1</td>\n",
              "      <td>0</td>\n",
              "      <td>0</td>\n",
              "      <td>0</td>\n",
              "      <td>1</td>\n",
              "      <td>0</td>\n",
              "    </tr>\n",
              "    <tr>\n",
              "      <th>270</th>\n",
              "      <td>0.354167</td>\n",
              "      <td>0.302326</td>\n",
              "      <td>0.458955</td>\n",
              "      <td>0</td>\n",
              "      <td>0.491228</td>\n",
              "      <td>0</td>\n",
              "      <td>0.20</td>\n",
              "      <td>0</td>\n",
              "      <td>3</td>\n",
              "      <td>1</td>\n",
              "      <td>0</td>\n",
              "      <td>0</td>\n",
              "      <td>1</td>\n",
              "      <td>0</td>\n",
              "      <td>1</td>\n",
              "      <td>0</td>\n",
              "    </tr>\n",
              "    <tr>\n",
              "      <th>177</th>\n",
              "      <td>0.729167</td>\n",
              "      <td>0.534884</td>\n",
              "      <td>0.779851</td>\n",
              "      <td>0</td>\n",
              "      <td>0.614035</td>\n",
              "      <td>0</td>\n",
              "      <td>0.00</td>\n",
              "      <td>0</td>\n",
              "      <td>2</td>\n",
              "      <td>1</td>\n",
              "      <td>0</td>\n",
              "      <td>1</td>\n",
              "      <td>0</td>\n",
              "      <td>0</td>\n",
              "      <td>0</td>\n",
              "      <td>0</td>\n",
              "    </tr>\n",
              "  </tbody>\n",
              "</table>\n",
              "</div>"
            ],
            "text/plain": [
              "          age  resting_blood_pressure  ...  rest_ecg_normal  st_slope_upsloping\n",
              "186  0.645833                0.418605  ...                0                   0\n",
              "123  0.520833                0.162791  ...                1                   0\n",
              "81   0.333333                0.395349  ...                1                   0\n",
              "270  0.354167                0.302326  ...                1                   0\n",
              "177  0.729167                0.534884  ...                0                   0\n",
              "\n",
              "[5 rows x 16 columns]"
            ]
          },
          "metadata": {},
          "execution_count": 389
        }
      ]
    },
    {
      "cell_type": "code",
      "metadata": {
        "colab": {
          "base_uri": "https://localhost:8080/",
          "height": 458
        },
        "id": "jX4we3AjKnQH",
        "outputId": "3414b6bb-61ed-4893-900a-aebafff183dc"
      },
      "source": [
        "X_test[['age','resting_blood_pressure','cholesterol','max_heart_rate_achieved','st_depression']] = scaler.transform(X_test[['age','resting_blood_pressure','cholesterol','max_heart_rate_achieved','st_depression']])\n",
        "X_test.head()"
      ],
      "execution_count": 390,
      "outputs": [
        {
          "output_type": "stream",
          "name": "stderr",
          "text": [
            "/usr/local/lib/python3.7/dist-packages/ipykernel_launcher.py:1: SettingWithCopyWarning: \n",
            "A value is trying to be set on a copy of a slice from a DataFrame.\n",
            "Try using .loc[row_indexer,col_indexer] = value instead\n",
            "\n",
            "See the caveats in the documentation: https://pandas.pydata.org/pandas-docs/stable/user_guide/indexing.html#returning-a-view-versus-a-copy\n",
            "  \"\"\"Entry point for launching an IPython kernel.\n",
            "/usr/local/lib/python3.7/dist-packages/pandas/core/indexing.py:1734: SettingWithCopyWarning: \n",
            "A value is trying to be set on a copy of a slice from a DataFrame.\n",
            "Try using .loc[row_indexer,col_indexer] = value instead\n",
            "\n",
            "See the caveats in the documentation: https://pandas.pydata.org/pandas-docs/stable/user_guide/indexing.html#returning-a-view-versus-a-copy\n",
            "  isetter(loc, value[:, i].tolist())\n"
          ]
        },
        {
          "output_type": "execute_result",
          "data": {
            "text/html": [
              "<div>\n",
              "<style scoped>\n",
              "    .dataframe tbody tr th:only-of-type {\n",
              "        vertical-align: middle;\n",
              "    }\n",
              "\n",
              "    .dataframe tbody tr th {\n",
              "        vertical-align: top;\n",
              "    }\n",
              "\n",
              "    .dataframe thead th {\n",
              "        text-align: right;\n",
              "    }\n",
              "</style>\n",
              "<table border=\"1\" class=\"dataframe\">\n",
              "  <thead>\n",
              "    <tr style=\"text-align: right;\">\n",
              "      <th></th>\n",
              "      <th>age</th>\n",
              "      <th>resting_blood_pressure</th>\n",
              "      <th>cholesterol</th>\n",
              "      <th>fasting_blood_sugar</th>\n",
              "      <th>max_heart_rate_achieved</th>\n",
              "      <th>exercise_induced_angina</th>\n",
              "      <th>st_depression</th>\n",
              "      <th>caa</th>\n",
              "      <th>thall</th>\n",
              "      <th>sex_male</th>\n",
              "      <th>chest_pain_type_atypical angina</th>\n",
              "      <th>chest_pain_type_non-anginal pain</th>\n",
              "      <th>chest_pain_type_typical angina</th>\n",
              "      <th>rest_ecg_left ventricular hypertrophy</th>\n",
              "      <th>rest_ecg_normal</th>\n",
              "      <th>st_slope_upsloping</th>\n",
              "    </tr>\n",
              "  </thead>\n",
              "  <tbody>\n",
              "    <tr>\n",
              "      <th>253</th>\n",
              "      <td>0.791667</td>\n",
              "      <td>0.069767</td>\n",
              "      <td>0.645522</td>\n",
              "      <td>0</td>\n",
              "      <td>0.324561</td>\n",
              "      <td>1</td>\n",
              "      <td>0.225</td>\n",
              "      <td>2</td>\n",
              "      <td>2</td>\n",
              "      <td>1</td>\n",
              "      <td>0</td>\n",
              "      <td>0</td>\n",
              "      <td>1</td>\n",
              "      <td>0</td>\n",
              "      <td>1</td>\n",
              "      <td>1</td>\n",
              "    </tr>\n",
              "    <tr>\n",
              "      <th>237</th>\n",
              "      <td>0.645833</td>\n",
              "      <td>0.534884</td>\n",
              "      <td>0.623134</td>\n",
              "      <td>0</td>\n",
              "      <td>0.719298</td>\n",
              "      <td>0</td>\n",
              "      <td>0.300</td>\n",
              "      <td>2</td>\n",
              "      <td>3</td>\n",
              "      <td>1</td>\n",
              "      <td>0</td>\n",
              "      <td>0</td>\n",
              "      <td>1</td>\n",
              "      <td>0</td>\n",
              "      <td>1</td>\n",
              "      <td>1</td>\n",
              "    </tr>\n",
              "    <tr>\n",
              "      <th>22</th>\n",
              "      <td>0.270833</td>\n",
              "      <td>0.534884</td>\n",
              "      <td>0.373134</td>\n",
              "      <td>0</td>\n",
              "      <td>0.789474</td>\n",
              "      <td>0</td>\n",
              "      <td>0.000</td>\n",
              "      <td>0</td>\n",
              "      <td>2</td>\n",
              "      <td>1</td>\n",
              "      <td>0</td>\n",
              "      <td>0</td>\n",
              "      <td>1</td>\n",
              "      <td>0</td>\n",
              "      <td>0</td>\n",
              "      <td>0</td>\n",
              "    </tr>\n",
              "    <tr>\n",
              "      <th>196</th>\n",
              "      <td>0.354167</td>\n",
              "      <td>0.651163</td>\n",
              "      <td>0.391791</td>\n",
              "      <td>0</td>\n",
              "      <td>0.517544</td>\n",
              "      <td>0</td>\n",
              "      <td>0.900</td>\n",
              "      <td>0</td>\n",
              "      <td>2</td>\n",
              "      <td>1</td>\n",
              "      <td>0</td>\n",
              "      <td>1</td>\n",
              "      <td>0</td>\n",
              "      <td>0</td>\n",
              "      <td>0</td>\n",
              "      <td>1</td>\n",
              "    </tr>\n",
              "    <tr>\n",
              "      <th>214</th>\n",
              "      <td>0.562500</td>\n",
              "      <td>0.360465</td>\n",
              "      <td>0.458955</td>\n",
              "      <td>1</td>\n",
              "      <td>0.491228</td>\n",
              "      <td>1</td>\n",
              "      <td>0.300</td>\n",
              "      <td>1</td>\n",
              "      <td>2</td>\n",
              "      <td>1</td>\n",
              "      <td>0</td>\n",
              "      <td>0</td>\n",
              "      <td>1</td>\n",
              "      <td>0</td>\n",
              "      <td>1</td>\n",
              "      <td>1</td>\n",
              "    </tr>\n",
              "  </tbody>\n",
              "</table>\n",
              "</div>"
            ],
            "text/plain": [
              "          age  resting_blood_pressure  ...  rest_ecg_normal  st_slope_upsloping\n",
              "253  0.791667                0.069767  ...                1                   1\n",
              "237  0.645833                0.534884  ...                1                   1\n",
              "22   0.270833                0.534884  ...                0                   0\n",
              "196  0.354167                0.651163  ...                0                   1\n",
              "214  0.562500                0.360465  ...                1                   1\n",
              "\n",
              "[5 rows x 16 columns]"
            ]
          },
          "metadata": {},
          "execution_count": 390
        }
      ]
    },
    {
      "cell_type": "code",
      "metadata": {
        "id": "FOFenA9WN7k_"
      },
      "source": [
        "from sklearn.neighbors import KNeighborsClassifier\n",
        "from sklearn.metrics import accuracy_score\n",
        "from sklearn.naive_bayes import GaussianNB"
      ],
      "execution_count": 391,
      "outputs": []
    },
    {
      "cell_type": "code",
      "metadata": {
        "id": "216aqGAUKqjY"
      },
      "source": [
        "from sklearn import model_selection\n",
        "from sklearn.model_selection import cross_val_score\n",
        "import xgboost as xgb"
      ],
      "execution_count": 392,
      "outputs": []
    },
    {
      "cell_type": "code",
      "metadata": {
        "id": "H6MwYGMlMDWT"
      },
      "source": [
        "# function initializing baseline machine learning models\n",
        "def GetBasedModel():\n",
        "    basedModels = []\n",
        "    basedModels.append(('LR_L2', LogisticRegression(penalty='l2')))\n",
        "    basedModels.append(('LDA', LinearDiscriminantAnalysis()))\n",
        "    basedModels.append(('KNN7', KNeighborsClassifier(7)))\n",
        "    basedModels.append(('KNN5', KNeighborsClassifier(5)))\n",
        "    basedModels.append(('KNN9', KNeighborsClassifier(9)))\n",
        "    basedModels.append(('KNN11', KNeighborsClassifier(11)))\n",
        "    basedModels.append(('CART', DecisionTreeClassifier()))\n",
        "    basedModels.append(('NB', GaussianNB()))\n",
        "    basedModels.append(('SVM Linear', SVC(kernel='linear',gamma='auto',probability=True)))\n",
        "    basedModels.append(('SVM RBF', SVC(kernel='rbf',gamma='auto',probability=True)))\n",
        "    basedModels.append(('AB', AdaBoostClassifier()))\n",
        "    basedModels.append(('GBM', GradientBoostingClassifier(n_estimators=100,max_features='sqrt')))\n",
        "    basedModels.append(('RF_Ent100', RandomForestClassifier(criterion='entropy',n_estimators=100)))\n",
        "    basedModels.append(('RF_Gini100', RandomForestClassifier(criterion='gini',n_estimators=100)))\n",
        "    basedModels.append(('ET100', ExtraTreesClassifier(n_estimators= 100)))\n",
        "    basedModels.append(('ET500', ExtraTreesClassifier(n_estimators= 500)))\n",
        "    basedModels.append(('MLP', MLPClassifier()))\n",
        "    basedModels.append(('SGD3000', SGDClassifier(max_iter=1000, tol=1e-4)))\n",
        "    basedModels.append(('XGB_2000', xgb.XGBClassifier(n_estimators= 2000)))\n",
        "    basedModels.append(('XGB_500', xgb.XGBClassifier(n_estimators= 500)))\n",
        "    basedModels.append(('XGB_100', xgb.XGBClassifier(n_estimators= 100)))\n",
        "    basedModels.append(('XGB_1000', xgb.XGBClassifier(n_estimators= 1000)))\n",
        "    basedModels.append(('ET1000', ExtraTreesClassifier(n_estimators= 1000)))\n",
        "    \n",
        "    return basedModels"
      ],
      "execution_count": 393,
      "outputs": []
    },
    {
      "cell_type": "code",
      "metadata": {
        "id": "zq0dPShgMNz2"
      },
      "source": [
        "# function for performing 10-fold cross validation of all the baseline models\n",
        "def BasedLine2(X_train, y_train,models):\n",
        "    # Test options and evaluation metric\n",
        "    num_folds = 10\n",
        "    scoring = 'accuracy'\n",
        "    seed = 7\n",
        "    results = []\n",
        "    names = []\n",
        "    for name, model in models:\n",
        "        kfold = model_selection.KFold(n_splits=10, random_state=seed)\n",
        "        cv_results = model_selection.cross_val_score(model, X_train, y_train, cv=kfold, scoring=scoring)\n",
        "        results.append(cv_results)\n",
        "        names.append(name)\n",
        "        msg = \"%s: %f (%f)\" % (name, cv_results.mean(), cv_results.std())\n",
        "        print(msg)\n",
        "         \n",
        "        \n",
        "    return results,msg"
      ],
      "execution_count": 394,
      "outputs": []
    },
    {
      "cell_type": "code",
      "metadata": {
        "colab": {
          "base_uri": "https://localhost:8080/"
        },
        "id": "TXum692_K-Bn",
        "outputId": "a1b36ffb-f569-4d62-b501-8dc27f68b884"
      },
      "source": [
        "models = GetBasedModel()\n",
        "names, results = BasedLine2(X_train, y_train, models)"
      ],
      "execution_count": 395,
      "outputs": [
        {
          "output_type": "stream",
          "name": "stderr",
          "text": [
            "/usr/local/lib/python3.7/dist-packages/sklearn/model_selection/_split.py:296: FutureWarning: Setting a random_state has no effect since shuffle is False. This will raise an error in 0.24. You should leave random_state to its default (None), or set shuffle=True.\n",
            "  FutureWarning\n",
            "/usr/local/lib/python3.7/dist-packages/sklearn/model_selection/_split.py:296: FutureWarning: Setting a random_state has no effect since shuffle is False. This will raise an error in 0.24. You should leave random_state to its default (None), or set shuffle=True.\n",
            "  FutureWarning\n",
            "/usr/local/lib/python3.7/dist-packages/sklearn/model_selection/_split.py:296: FutureWarning: Setting a random_state has no effect since shuffle is False. This will raise an error in 0.24. You should leave random_state to its default (None), or set shuffle=True.\n",
            "  FutureWarning\n"
          ]
        },
        {
          "output_type": "stream",
          "name": "stdout",
          "text": [
            "LR_L2: 0.809091 (0.083320)\n",
            "LDA: 0.809091 (0.083320)\n",
            "KNN7: 0.813636 (0.094147)\n",
            "KNN5: 0.822727 (0.082447)\n",
            "KNN9: 0.813636 (0.055484)\n"
          ]
        },
        {
          "output_type": "stream",
          "name": "stderr",
          "text": [
            "/usr/local/lib/python3.7/dist-packages/sklearn/model_selection/_split.py:296: FutureWarning: Setting a random_state has no effect since shuffle is False. This will raise an error in 0.24. You should leave random_state to its default (None), or set shuffle=True.\n",
            "  FutureWarning\n",
            "/usr/local/lib/python3.7/dist-packages/sklearn/model_selection/_split.py:296: FutureWarning: Setting a random_state has no effect since shuffle is False. This will raise an error in 0.24. You should leave random_state to its default (None), or set shuffle=True.\n",
            "  FutureWarning\n",
            "/usr/local/lib/python3.7/dist-packages/sklearn/model_selection/_split.py:296: FutureWarning: Setting a random_state has no effect since shuffle is False. This will raise an error in 0.24. You should leave random_state to its default (None), or set shuffle=True.\n",
            "  FutureWarning\n",
            "/usr/local/lib/python3.7/dist-packages/sklearn/model_selection/_split.py:296: FutureWarning: Setting a random_state has no effect since shuffle is False. This will raise an error in 0.24. You should leave random_state to its default (None), or set shuffle=True.\n",
            "  FutureWarning\n",
            "/usr/local/lib/python3.7/dist-packages/sklearn/model_selection/_split.py:296: FutureWarning: Setting a random_state has no effect since shuffle is False. This will raise an error in 0.24. You should leave random_state to its default (None), or set shuffle=True.\n",
            "  FutureWarning\n"
          ]
        },
        {
          "output_type": "stream",
          "name": "stdout",
          "text": [
            "KNN11: 0.804545 (0.053974)\n",
            "CART: 0.763636 (0.075515)\n",
            "NB: 0.795455 (0.073995)\n",
            "SVM Linear: 0.790909 (0.079253)\n"
          ]
        },
        {
          "output_type": "stream",
          "name": "stderr",
          "text": [
            "/usr/local/lib/python3.7/dist-packages/sklearn/model_selection/_split.py:296: FutureWarning: Setting a random_state has no effect since shuffle is False. This will raise an error in 0.24. You should leave random_state to its default (None), or set shuffle=True.\n",
            "  FutureWarning\n",
            "/usr/local/lib/python3.7/dist-packages/sklearn/model_selection/_split.py:296: FutureWarning: Setting a random_state has no effect since shuffle is False. This will raise an error in 0.24. You should leave random_state to its default (None), or set shuffle=True.\n",
            "  FutureWarning\n",
            "/usr/local/lib/python3.7/dist-packages/sklearn/model_selection/_split.py:296: FutureWarning: Setting a random_state has no effect since shuffle is False. This will raise an error in 0.24. You should leave random_state to its default (None), or set shuffle=True.\n",
            "  FutureWarning\n"
          ]
        },
        {
          "output_type": "stream",
          "name": "stdout",
          "text": [
            "SVM RBF: 0.809091 (0.078203)\n",
            "AB: 0.777273 (0.068785)\n"
          ]
        },
        {
          "output_type": "stream",
          "name": "stderr",
          "text": [
            "/usr/local/lib/python3.7/dist-packages/sklearn/model_selection/_split.py:296: FutureWarning: Setting a random_state has no effect since shuffle is False. This will raise an error in 0.24. You should leave random_state to its default (None), or set shuffle=True.\n",
            "  FutureWarning\n"
          ]
        },
        {
          "output_type": "stream",
          "name": "stdout",
          "text": [
            "GBM: 0.822727 (0.091926)\n"
          ]
        },
        {
          "output_type": "stream",
          "name": "stderr",
          "text": [
            "/usr/local/lib/python3.7/dist-packages/sklearn/model_selection/_split.py:296: FutureWarning: Setting a random_state has no effect since shuffle is False. This will raise an error in 0.24. You should leave random_state to its default (None), or set shuffle=True.\n",
            "  FutureWarning\n"
          ]
        },
        {
          "output_type": "stream",
          "name": "stdout",
          "text": [
            "RF_Ent100: 0.809091 (0.078203)\n"
          ]
        },
        {
          "output_type": "stream",
          "name": "stderr",
          "text": [
            "/usr/local/lib/python3.7/dist-packages/sklearn/model_selection/_split.py:296: FutureWarning: Setting a random_state has no effect since shuffle is False. This will raise an error in 0.24. You should leave random_state to its default (None), or set shuffle=True.\n",
            "  FutureWarning\n"
          ]
        },
        {
          "output_type": "stream",
          "name": "stdout",
          "text": [
            "RF_Gini100: 0.795455 (0.065081)\n"
          ]
        },
        {
          "output_type": "stream",
          "name": "stderr",
          "text": [
            "/usr/local/lib/python3.7/dist-packages/sklearn/model_selection/_split.py:296: FutureWarning: Setting a random_state has no effect since shuffle is False. This will raise an error in 0.24. You should leave random_state to its default (None), or set shuffle=True.\n",
            "  FutureWarning\n"
          ]
        },
        {
          "output_type": "stream",
          "name": "stdout",
          "text": [
            "ET100: 0.795455 (0.081944)\n"
          ]
        },
        {
          "output_type": "stream",
          "name": "stderr",
          "text": [
            "/usr/local/lib/python3.7/dist-packages/sklearn/model_selection/_split.py:296: FutureWarning: Setting a random_state has no effect since shuffle is False. This will raise an error in 0.24. You should leave random_state to its default (None), or set shuffle=True.\n",
            "  FutureWarning\n"
          ]
        },
        {
          "output_type": "stream",
          "name": "stdout",
          "text": [
            "ET500: 0.795455 (0.089188)\n"
          ]
        },
        {
          "output_type": "stream",
          "name": "stderr",
          "text": [
            "/usr/local/lib/python3.7/dist-packages/sklearn/model_selection/_split.py:296: FutureWarning: Setting a random_state has no effect since shuffle is False. This will raise an error in 0.24. You should leave random_state to its default (None), or set shuffle=True.\n",
            "  FutureWarning\n",
            "/usr/local/lib/python3.7/dist-packages/sklearn/neural_network/_multilayer_perceptron.py:571: ConvergenceWarning: Stochastic Optimizer: Maximum iterations (200) reached and the optimization hasn't converged yet.\n",
            "  % self.max_iter, ConvergenceWarning)\n",
            "/usr/local/lib/python3.7/dist-packages/sklearn/neural_network/_multilayer_perceptron.py:571: ConvergenceWarning: Stochastic Optimizer: Maximum iterations (200) reached and the optimization hasn't converged yet.\n",
            "  % self.max_iter, ConvergenceWarning)\n",
            "/usr/local/lib/python3.7/dist-packages/sklearn/neural_network/_multilayer_perceptron.py:571: ConvergenceWarning: Stochastic Optimizer: Maximum iterations (200) reached and the optimization hasn't converged yet.\n",
            "  % self.max_iter, ConvergenceWarning)\n",
            "/usr/local/lib/python3.7/dist-packages/sklearn/neural_network/_multilayer_perceptron.py:571: ConvergenceWarning: Stochastic Optimizer: Maximum iterations (200) reached and the optimization hasn't converged yet.\n",
            "  % self.max_iter, ConvergenceWarning)\n",
            "/usr/local/lib/python3.7/dist-packages/sklearn/neural_network/_multilayer_perceptron.py:571: ConvergenceWarning: Stochastic Optimizer: Maximum iterations (200) reached and the optimization hasn't converged yet.\n",
            "  % self.max_iter, ConvergenceWarning)\n",
            "/usr/local/lib/python3.7/dist-packages/sklearn/neural_network/_multilayer_perceptron.py:571: ConvergenceWarning: Stochastic Optimizer: Maximum iterations (200) reached and the optimization hasn't converged yet.\n",
            "  % self.max_iter, ConvergenceWarning)\n",
            "/usr/local/lib/python3.7/dist-packages/sklearn/neural_network/_multilayer_perceptron.py:571: ConvergenceWarning: Stochastic Optimizer: Maximum iterations (200) reached and the optimization hasn't converged yet.\n",
            "  % self.max_iter, ConvergenceWarning)\n",
            "/usr/local/lib/python3.7/dist-packages/sklearn/neural_network/_multilayer_perceptron.py:571: ConvergenceWarning: Stochastic Optimizer: Maximum iterations (200) reached and the optimization hasn't converged yet.\n",
            "  % self.max_iter, ConvergenceWarning)\n",
            "/usr/local/lib/python3.7/dist-packages/sklearn/neural_network/_multilayer_perceptron.py:571: ConvergenceWarning: Stochastic Optimizer: Maximum iterations (200) reached and the optimization hasn't converged yet.\n",
            "  % self.max_iter, ConvergenceWarning)\n",
            "/usr/local/lib/python3.7/dist-packages/sklearn/neural_network/_multilayer_perceptron.py:571: ConvergenceWarning: Stochastic Optimizer: Maximum iterations (200) reached and the optimization hasn't converged yet.\n",
            "  % self.max_iter, ConvergenceWarning)\n",
            "/usr/local/lib/python3.7/dist-packages/sklearn/model_selection/_split.py:296: FutureWarning: Setting a random_state has no effect since shuffle is False. This will raise an error in 0.24. You should leave random_state to its default (None), or set shuffle=True.\n",
            "  FutureWarning\n",
            "/usr/local/lib/python3.7/dist-packages/sklearn/model_selection/_split.py:296: FutureWarning: Setting a random_state has no effect since shuffle is False. This will raise an error in 0.24. You should leave random_state to its default (None), or set shuffle=True.\n",
            "  FutureWarning\n"
          ]
        },
        {
          "output_type": "stream",
          "name": "stdout",
          "text": [
            "MLP: 0.813636 (0.065713)\n",
            "SGD3000: 0.754545 (0.073855)\n",
            "XGB_2000: 0.795455 (0.071148)\n",
            "XGB_500: 0.800000 (0.073855)\n",
            "XGB_100: 0.813636 (0.082447)\n",
            "XGB_1000: 0.804545 (0.073434)\n",
            "ET1000: 0.809091 (0.090453)\n"
          ]
        }
      ]
    },
    {
      "cell_type": "code",
      "metadata": {
        "id": "wAYpUuPwPH8q"
      },
      "source": [
        "rf_ent = RandomForestClassifier(criterion='entropy',n_estimators=100)\n",
        "rf_ent.fit(X_train, y_train)\n",
        "y_pred_rfe = rf_ent.predict(X_test)"
      ],
      "execution_count": 396,
      "outputs": []
    },
    {
      "cell_type": "code",
      "metadata": {
        "colab": {
          "base_uri": "https://localhost:8080/"
        },
        "id": "fx_vq6GzPUUv",
        "outputId": "5282d7f6-dab6-4018-9334-c5d696f1dc58"
      },
      "source": [
        "mlp = MLPClassifier()\n",
        "mlp.fit(X_train,y_train)\n",
        "y_pred_mlp = mlp.predict(X_test)"
      ],
      "execution_count": 397,
      "outputs": [
        {
          "output_type": "stream",
          "name": "stderr",
          "text": [
            "/usr/local/lib/python3.7/dist-packages/sklearn/neural_network/_multilayer_perceptron.py:571: ConvergenceWarning: Stochastic Optimizer: Maximum iterations (200) reached and the optimization hasn't converged yet.\n",
            "  % self.max_iter, ConvergenceWarning)\n"
          ]
        }
      ]
    },
    {
      "cell_type": "code",
      "metadata": {
        "id": "OItwb6RQPWpE"
      },
      "source": [
        "knn = KNeighborsClassifier(9)\n",
        "knn.fit(X_train,y_train)\n",
        "y_pred_knn = knn.predict(X_test)"
      ],
      "execution_count": 398,
      "outputs": []
    },
    {
      "cell_type": "code",
      "metadata": {
        "id": "MqfCK8DuPZbZ"
      },
      "source": [
        "et_100 = ExtraTreesClassifier(n_estimators= 100)\n",
        "et_100.fit(X_train,y_train)\n",
        "y_pred_et_100 = et_100.predict(X_test)"
      ],
      "execution_count": 400,
      "outputs": []
    },
    {
      "cell_type": "code",
      "metadata": {
        "id": "Gf1dfjCtPcL2"
      },
      "source": [
        "import xgboost as xgb\n",
        "xgb = xgb.XGBClassifier(n_estimators= 500)\n",
        "xgb.fit(X_train,y_train)\n",
        "y_pred_xgb = xgb.predict(X_test)"
      ],
      "execution_count": 401,
      "outputs": []
    },
    {
      "cell_type": "code",
      "metadata": {
        "id": "UzlKnyJoPiqO"
      },
      "source": [
        "svc = SVC(kernel='linear',gamma='auto',probability=True)\n",
        "svc.fit(X_train,y_train)\n",
        "y_pred_svc = svc.predict(X_test)"
      ],
      "execution_count": 402,
      "outputs": []
    },
    {
      "cell_type": "code",
      "metadata": {
        "id": "2sjJemeAPlq9"
      },
      "source": [
        "sgd = SGDClassifier(max_iter=1000, tol=1e-4)\n",
        "sgd.fit(X_train,y_train)\n",
        "y_pred_sgd = sgd.predict(X_test)"
      ],
      "execution_count": 403,
      "outputs": []
    },
    {
      "cell_type": "code",
      "metadata": {
        "id": "wivFqU6HPo6a"
      },
      "source": [
        "ada = AdaBoostClassifier()\n",
        "ada.fit(X_train,y_train)\n",
        "y_pred_ada = ada.predict(X_test)"
      ],
      "execution_count": 404,
      "outputs": []
    },
    {
      "cell_type": "code",
      "metadata": {
        "id": "EAT3K9K8PrOK"
      },
      "source": [
        "decc = DecisionTreeClassifier()\n",
        "decc.fit(X_train,y_train)\n",
        "y_pred_decc = decc.predict(X_test)"
      ],
      "execution_count": 405,
      "outputs": []
    },
    {
      "cell_type": "code",
      "metadata": {
        "id": "5VOAvqUSPuOk"
      },
      "source": [
        "gbm = GradientBoostingClassifier(n_estimators=100,max_features='sqrt')\n",
        "gbm.fit(X_train,y_train)\n",
        "y_pred_gbm = gbm.predict(X_test)"
      ],
      "execution_count": 406,
      "outputs": []
    },
    {
      "cell_type": "code",
      "metadata": {
        "colab": {
          "base_uri": "https://localhost:8080/",
          "height": 328
        },
        "id": "lQzbF6VgPx0N",
        "outputId": "740b35dc-3f88-4eca-d06d-b251884061a9"
      },
      "source": [
        "CM=confusion_matrix(y_test,y_pred_rfe)\n",
        "sns.heatmap(CM, annot=True)\n",
        "\n",
        "TN = CM[0][0]\n",
        "FN = CM[1][0]\n",
        "TP = CM[1][1]\n",
        "FP = CM[0][1]\n",
        "specificity = TN/(TN+FP)\n",
        "loss_log = log_loss(y_test, y_pred_rfe)\n",
        "acc= accuracy_score(y_test, y_pred_rfe)\n",
        "roc=roc_auc_score(y_test, y_pred_rfe)\n",
        "prec = precision_score(y_test, y_pred_rfe)\n",
        "rec = recall_score(y_test, y_pred_rfe)\n",
        "f1 = f1_score(y_test, y_pred_rfe)\n",
        "\n",
        "mathew = matthews_corrcoef(y_test, y_pred_rfe)\n",
        "model_results =pd.DataFrame([['Random Forest',acc, prec,rec,specificity, f1,roc, loss_log,mathew]],\n",
        "               columns = ['Model', 'Accuracy','Precision', 'Sensitivity','Specificity', 'F1 Score','ROC','Log_Loss','mathew_corrcoef'])\n",
        "\n",
        "model_results"
      ],
      "execution_count": 407,
      "outputs": [
        {
          "output_type": "execute_result",
          "data": {
            "text/html": [
              "<div>\n",
              "<style scoped>\n",
              "    .dataframe tbody tr th:only-of-type {\n",
              "        vertical-align: middle;\n",
              "    }\n",
              "\n",
              "    .dataframe tbody tr th {\n",
              "        vertical-align: top;\n",
              "    }\n",
              "\n",
              "    .dataframe thead th {\n",
              "        text-align: right;\n",
              "    }\n",
              "</style>\n",
              "<table border=\"1\" class=\"dataframe\">\n",
              "  <thead>\n",
              "    <tr style=\"text-align: right;\">\n",
              "      <th></th>\n",
              "      <th>Model</th>\n",
              "      <th>Accuracy</th>\n",
              "      <th>Precision</th>\n",
              "      <th>Sensitivity</th>\n",
              "      <th>Specificity</th>\n",
              "      <th>F1 Score</th>\n",
              "      <th>ROC</th>\n",
              "      <th>Log_Loss</th>\n",
              "      <th>mathew_corrcoef</th>\n",
              "    </tr>\n",
              "  </thead>\n",
              "  <tbody>\n",
              "    <tr>\n",
              "      <th>0</th>\n",
              "      <td>Random Forest</td>\n",
              "      <td>0.839286</td>\n",
              "      <td>0.866667</td>\n",
              "      <td>0.83871</td>\n",
              "      <td>0.84</td>\n",
              "      <td>0.852459</td>\n",
              "      <td>0.839355</td>\n",
              "      <td>5.550932</td>\n",
              "      <td>0.676531</td>\n",
              "    </tr>\n",
              "  </tbody>\n",
              "</table>\n",
              "</div>"
            ],
            "text/plain": [
              "           Model  Accuracy  Precision  ...       ROC  Log_Loss  mathew_corrcoef\n",
              "0  Random Forest  0.839286   0.866667  ...  0.839355  5.550932         0.676531\n",
              "\n",
              "[1 rows x 9 columns]"
            ]
          },
          "metadata": {},
          "execution_count": 407
        },
        {
          "output_type": "display_data",
          "data": {
            "image/png": "[encoded data removed]",
            "text/plain": [
              "<Figure size 432x288 with 2 Axes>"
            ]
          },
          "metadata": {
            "needs_background": "light"
          }
        }
      ]
    },
    {
      "cell_type": "code",
      "metadata": {
        "colab": {
          "base_uri": "https://localhost:8080/",
          "height": 357
        },
        "id": "CFfDDf3PP1yI",
        "outputId": "04cdd97d-e90b-4f15-b3b3-b5028a43bbb9"
      },
      "source": [
        "data = {        'MLP': y_pred_mlp, \n",
        "                'KNN': y_pred_knn, \n",
        "                'EXtra tree classifier': y_pred_et_100,\n",
        "                'XGB': y_pred_xgb, \n",
        "                'SVC': y_pred_svc, \n",
        "                'SGD': y_pred_sgd,\n",
        "                'Adaboost': y_pred_ada, \n",
        "                'CART': y_pred_decc, \n",
        "                'GBM': y_pred_gbm }\n",
        "\n",
        "models = pd.DataFrame(data) \n",
        " \n",
        "for column in models:\n",
        "    CM=confusion_matrix(y_test,models[column])\n",
        "    \n",
        "    TN = CM[0][0]\n",
        "    FN = CM[1][0]\n",
        "    TP = CM[1][1]\n",
        "    FP = CM[0][1]\n",
        "    specificity = TN/(TN+FP)\n",
        "    loss_log = log_loss(y_test, models[column])\n",
        "    acc= accuracy_score(y_test, models[column])\n",
        "    roc=roc_auc_score(y_test, models[column])\n",
        "    prec = precision_score(y_test, models[column])\n",
        "    rec = recall_score(y_test, models[column])\n",
        "    f1 = f1_score(y_test, models[column])\n",
        "    \n",
        "    mathew = matthews_corrcoef(y_test, models[column])\n",
        "    results =pd.DataFrame([[column,acc, prec,rec,specificity, f1,roc, loss_log,mathew]],\n",
        "               columns = ['Model', 'Accuracy','Precision', 'Sensitivity','Specificity', 'F1 Score','ROC','Log_Loss','mathew_corrcoef'])\n",
        "    model_results = model_results.append(results, ignore_index = True)\n",
        "\n",
        "model_results"
      ],
      "execution_count": 408,
      "outputs": [
        {
          "output_type": "execute_result",
          "data": {
            "text/html": [
              "<div>\n",
              "<style scoped>\n",
              "    .dataframe tbody tr th:only-of-type {\n",
              "        vertical-align: middle;\n",
              "    }\n",
              "\n",
              "    .dataframe tbody tr th {\n",
              "        vertical-align: top;\n",
              "    }\n",
              "\n",
              "    .dataframe thead th {\n",
              "        text-align: right;\n",
              "    }\n",
              "</style>\n",
              "<table border=\"1\" class=\"dataframe\">\n",
              "  <thead>\n",
              "    <tr style=\"text-align: right;\">\n",
              "      <th></th>\n",
              "      <th>Model</th>\n",
              "      <th>Accuracy</th>\n",
              "      <th>Precision</th>\n",
              "      <th>Sensitivity</th>\n",
              "      <th>Specificity</th>\n",
              "      <th>F1 Score</th>\n",
              "      <th>ROC</th>\n",
              "      <th>Log_Loss</th>\n",
              "      <th>mathew_corrcoef</th>\n",
              "    </tr>\n",
              "  </thead>\n",
              "  <tbody>\n",
              "    <tr>\n",
              "      <th>0</th>\n",
              "      <td>Random Forest</td>\n",
              "      <td>0.839286</td>\n",
              "      <td>0.866667</td>\n",
              "      <td>0.838710</td>\n",
              "      <td>0.84</td>\n",
              "      <td>0.852459</td>\n",
              "      <td>0.839355</td>\n",
              "      <td>5.550932</td>\n",
              "      <td>0.676531</td>\n",
              "    </tr>\n",
              "    <tr>\n",
              "      <th>1</th>\n",
              "      <td>MLP</td>\n",
              "      <td>0.875000</td>\n",
              "      <td>0.875000</td>\n",
              "      <td>0.903226</td>\n",
              "      <td>0.84</td>\n",
              "      <td>0.888889</td>\n",
              "      <td>0.871613</td>\n",
              "      <td>4.317404</td>\n",
              "      <td>0.746605</td>\n",
              "    </tr>\n",
              "    <tr>\n",
              "      <th>2</th>\n",
              "      <td>KNN</td>\n",
              "      <td>0.875000</td>\n",
              "      <td>0.833333</td>\n",
              "      <td>0.967742</td>\n",
              "      <td>0.76</td>\n",
              "      <td>0.895522</td>\n",
              "      <td>0.863871</td>\n",
              "      <td>4.317433</td>\n",
              "      <td>0.755026</td>\n",
              "    </tr>\n",
              "    <tr>\n",
              "      <th>3</th>\n",
              "      <td>EXtra tree classifier</td>\n",
              "      <td>0.857143</td>\n",
              "      <td>0.870968</td>\n",
              "      <td>0.870968</td>\n",
              "      <td>0.84</td>\n",
              "      <td>0.870968</td>\n",
              "      <td>0.855484</td>\n",
              "      <td>4.934168</td>\n",
              "      <td>0.710968</td>\n",
              "    </tr>\n",
              "    <tr>\n",
              "      <th>4</th>\n",
              "      <td>XGB</td>\n",
              "      <td>0.857143</td>\n",
              "      <td>0.870968</td>\n",
              "      <td>0.870968</td>\n",
              "      <td>0.84</td>\n",
              "      <td>0.870968</td>\n",
              "      <td>0.855484</td>\n",
              "      <td>4.934168</td>\n",
              "      <td>0.710968</td>\n",
              "    </tr>\n",
              "    <tr>\n",
              "      <th>5</th>\n",
              "      <td>SVC</td>\n",
              "      <td>0.857143</td>\n",
              "      <td>0.828571</td>\n",
              "      <td>0.935484</td>\n",
              "      <td>0.76</td>\n",
              "      <td>0.878788</td>\n",
              "      <td>0.847742</td>\n",
              "      <td>4.934197</td>\n",
              "      <td>0.714158</td>\n",
              "    </tr>\n",
              "    <tr>\n",
              "      <th>6</th>\n",
              "      <td>SGD</td>\n",
              "      <td>0.839286</td>\n",
              "      <td>0.805556</td>\n",
              "      <td>0.935484</td>\n",
              "      <td>0.72</td>\n",
              "      <td>0.865672</td>\n",
              "      <td>0.827742</td>\n",
              "      <td>5.550975</td>\n",
              "      <td>0.680059</td>\n",
              "    </tr>\n",
              "    <tr>\n",
              "      <th>7</th>\n",
              "      <td>Adaboost</td>\n",
              "      <td>0.821429</td>\n",
              "      <td>0.838710</td>\n",
              "      <td>0.838710</td>\n",
              "      <td>0.80</td>\n",
              "      <td>0.838710</td>\n",
              "      <td>0.819355</td>\n",
              "      <td>6.167710</td>\n",
              "      <td>0.638710</td>\n",
              "    </tr>\n",
              "    <tr>\n",
              "      <th>8</th>\n",
              "      <td>CART</td>\n",
              "      <td>0.750000</td>\n",
              "      <td>0.774194</td>\n",
              "      <td>0.774194</td>\n",
              "      <td>0.72</td>\n",
              "      <td>0.774194</td>\n",
              "      <td>0.747097</td>\n",
              "      <td>8.634794</td>\n",
              "      <td>0.494194</td>\n",
              "    </tr>\n",
              "    <tr>\n",
              "      <th>9</th>\n",
              "      <td>GBM</td>\n",
              "      <td>0.821429</td>\n",
              "      <td>0.862069</td>\n",
              "      <td>0.806452</td>\n",
              "      <td>0.84</td>\n",
              "      <td>0.833333</td>\n",
              "      <td>0.823226</td>\n",
              "      <td>6.167696</td>\n",
              "      <td>0.643141</td>\n",
              "    </tr>\n",
              "  </tbody>\n",
              "</table>\n",
              "</div>"
            ],
            "text/plain": [
              "                   Model  Accuracy  ...  Log_Loss  mathew_corrcoef\n",
              "0          Random Forest  0.839286  ...  5.550932         0.676531\n",
              "1                    MLP  0.875000  ...  4.317404         0.746605\n",
              "2                    KNN  0.875000  ...  4.317433         0.755026\n",
              "3  EXtra tree classifier  0.857143  ...  4.934168         0.710968\n",
              "4                    XGB  0.857143  ...  4.934168         0.710968\n",
              "5                    SVC  0.857143  ...  4.934197         0.714158\n",
              "6                    SGD  0.839286  ...  5.550975         0.680059\n",
              "7               Adaboost  0.821429  ...  6.167710         0.638710\n",
              "8                   CART  0.750000  ...  8.634794         0.494194\n",
              "9                    GBM  0.821429  ...  6.167696         0.643141\n",
              "\n",
              "[10 rows x 9 columns]"
            ]
          },
          "metadata": {},
          "execution_count": 408
        }
      ]
    },
    {
      "cell_type": "code",
      "metadata": {
        "colab": {
          "base_uri": "https://localhost:8080/",
          "height": 513
        },
        "id": "-nSqaH8XP7sC",
        "outputId": "0ac8c4ef-3363-4e5e-89b1-e22eae9c714e"
      },
      "source": [
        "def roc_auc_plot(y_true, y_proba, label=' ', l='-', lw=1.0):\n",
        "    from sklearn.metrics import roc_curve, roc_auc_score\n",
        "    fpr, tpr, _ = roc_curve(y_true, y_proba[:,1])\n",
        "    ax.plot(fpr, tpr, linestyle=l, linewidth=lw,\n",
        "            label=\"%s (area=%.3f)\"%(label,roc_auc_score(y_true, y_proba[:,1])))\n",
        "\n",
        "f, ax = plt.subplots(figsize=(12,8))\n",
        "\n",
        "\n",
        "roc_auc_plot(y_test,rf_ent.predict_proba(X_test),label='Random Forest Classifier ',l='-')\n",
        "roc_auc_plot(y_test,et_100.predict_proba(X_test),label='Extra Tree Classifier ',l='-')\n",
        "roc_auc_plot(y_test,xgb.predict_proba(X_test),label='XGboost',l='-')\n",
        "\n",
        "ax.plot([0,1], [0,1], color='k', linewidth=0.5, linestyle='--', \n",
        "        )    \n",
        "ax.legend(loc=\"lower right\")    \n",
        "ax.set_xlabel('False Positive Rate')\n",
        "ax.set_ylabel('True Positive Rate')\n",
        "ax.set_xlim([0, 1])\n",
        "ax.set_ylim([0, 1])\n",
        "ax.set_title('Receiver Operator Characteristic curves')\n",
        "sns.despine()"
      ],
      "execution_count": 409,
      "outputs": [
        {
          "output_type": "display_data",
          "data": {
            "image/png": "[encoded data removed]",
            "text/plain": [
              "<Figure size 864x576 with 1 Axes>"
            ]
          },
          "metadata": {
            "needs_background": "light"
          }
        }
      ]
    },
    {
      "cell_type": "code",
      "metadata": {
        "colab": {
          "base_uri": "https://localhost:8080/",
          "height": 621
        },
        "id": "ASjmqWAmP_je",
        "outputId": "9395b74d-aa7d-4d36-e410-c971a796541f"
      },
      "source": [
        "def precision_recall_plot(y_true, y_proba, label=' ', l='-', lw=1.0):\n",
        "    from sklearn.metrics import precision_recall_curve, average_precision_score\n",
        "    precision, recall, _ = precision_recall_curve(y_test,\n",
        "                                                  y_proba[:,1])\n",
        "    average_precision = average_precision_score(y_test, y_proba[:,1],\n",
        "                                                     average=\"micro\")\n",
        "    ax.plot(recall, precision, label='%s (average=%.3f)'%(label,average_precision),\n",
        "            linestyle=l, linewidth=lw)\n",
        "\n",
        "f, ax = plt.subplots(figsize=(14,10))\n",
        "\n",
        "precision_recall_plot(y_test,rf_ent.predict_proba(X_test),label='Random Forest Classifier ',l='-')\n",
        "precision_recall_plot(y_test,et_100.predict_proba(X_test),label='Extra Tree Classifier ',l='-')\n",
        "precision_recall_plot(y_test,xgb.predict_proba(X_test),label='XGboost',l='-')\n",
        "ax.set_xlabel('Recall')\n",
        "ax.set_ylabel('Precision')\n",
        "ax.legend(loc=\"lower left\")\n",
        "ax.grid(True)\n",
        "ax.set_xlim([0, 1])\n",
        "ax.set_ylim([0, 1])\n",
        "ax.set_title('Precision-recall curves')\n",
        "sns.despine()"
      ],
      "execution_count": 410,
      "outputs": [
        {
          "output_type": "display_data",
          "data": {
            "image/png": "[encoded data removed]",
            "text/plain": [
              "<Figure size 1008x720 with 1 Axes>"
            ]
          },
          "metadata": {
            "needs_background": "light"
          }
        }
      ]
    },
    {
      "cell_type": "code",
      "metadata": {
        "colab": {
          "base_uri": "https://localhost:8080/"
        },
        "id": "h7z1BAKlQFAO",
        "outputId": "c0d76638-7c98-4515-84c0-dd99fec6cfd5"
      },
      "source": [
        "num_feats=11\n",
        "\n",
        "def cor_selector(X, y,num_feats):\n",
        "    cor_list = []\n",
        "    feature_name = X.columns.tolist()\n",
        "    # calculate the correlation with y for each feature\n",
        "    for i in X.columns.tolist():\n",
        "        cor = np.corrcoef(X[i], y)[0, 1]\n",
        "        cor_list.append(cor)\n",
        "    # replace NaN with 0\n",
        "    cor_list = [0 if np.isnan(i) else i for i in cor_list]\n",
        "    # feature name\n",
        "    cor_feature = X.iloc[:,np.argsort(np.abs(cor_list))[-num_feats:]].columns.tolist()\n",
        "    # feature selection? 0 for not select, 1 for select\n",
        "    cor_support = [True if i in cor_feature else False for i in feature_name]\n",
        "    return cor_support, cor_feature\n",
        "cor_support, cor_feature = cor_selector(X, y,num_feats)\n",
        "print(str(len(cor_feature)), 'selected features')"
      ],
      "execution_count": 411,
      "outputs": [
        {
          "output_type": "stream",
          "name": "stdout",
          "text": [
            "11 selected features\n"
          ]
        }
      ]
    },
    {
      "cell_type": "code",
      "metadata": {
        "colab": {
          "base_uri": "https://localhost:8080/"
        },
        "id": "rsPRGsxIQK8H",
        "outputId": "e07ccff4-b435-4c20-aebc-be02f21a9a3c"
      },
      "source": [
        "from sklearn.feature_selection import SelectKBest\n",
        "from sklearn.feature_selection import chi2\n",
        "from sklearn.preprocessing import MinMaxScaler\n",
        "X_norm = MinMaxScaler().fit_transform(X)\n",
        "chi_selector = SelectKBest(chi2, k=num_feats)\n",
        "chi_selector.fit(X_norm, y)\n",
        "chi_support = chi_selector.get_support()\n",
        "chi_feature = X.loc[:,chi_support].columns.tolist()\n",
        "print(str(len(chi_feature)), 'selected features')"
      ],
      "execution_count": 412,
      "outputs": [
        {
          "output_type": "stream",
          "name": "stdout",
          "text": [
            "11 selected features\n"
          ]
        }
      ]
    },
    {
      "cell_type": "code",
      "metadata": {
        "colab": {
          "base_uri": "https://localhost:8080/"
        },
        "id": "CZgOzgDvQNkq",
        "outputId": "2ac13ea0-57c3-40cd-ec5c-322219c53b66"
      },
      "source": [
        "from sklearn.feature_selection import RFE\n",
        "from sklearn.linear_model import LogisticRegression\n",
        "rfe_selector = RFE(estimator=LogisticRegression(), n_features_to_select=num_feats, step=10, verbose=5)\n",
        "rfe_selector.fit(X_norm, y)\n",
        "rfe_support = rfe_selector.get_support()\n",
        "rfe_feature = X.loc[:,rfe_support].columns.tolist()\n",
        "print(str(len(rfe_feature)), 'selected features')"
      ],
      "execution_count": 413,
      "outputs": [
        {
          "output_type": "stream",
          "name": "stdout",
          "text": [
            "Fitting estimator with 16 features.\n",
            "11 selected features\n"
          ]
        }
      ]
    },
    {
      "cell_type": "code",
      "metadata": {
        "colab": {
          "base_uri": "https://localhost:8080/"
        },
        "id": "C5MGLUxCQRFy",
        "outputId": "fd3d5963-d29f-4197-cb91-38e1f11d73d8"
      },
      "source": [
        "from sklearn.feature_selection import SelectFromModel\n",
        "from sklearn.linear_model import LogisticRegression\n",
        "\n",
        "embeded_lr_selector = SelectFromModel(LogisticRegression(penalty=\"l2\", solver='lbfgs'), max_features=num_feats)\n",
        "embeded_lr_selector.fit(X_norm, y)\n",
        "\n",
        "embeded_lr_support = embeded_lr_selector.get_support()\n",
        "embeded_lr_feature = X.loc[:,embeded_lr_support].columns.tolist()\n",
        "print(str(len(embeded_lr_feature)), 'selected features')"
      ],
      "execution_count": 414,
      "outputs": [
        {
          "output_type": "stream",
          "name": "stdout",
          "text": [
            "7 selected features\n"
          ]
        }
      ]
    },
    {
      "cell_type": "code",
      "metadata": {
        "colab": {
          "base_uri": "https://localhost:8080/"
        },
        "id": "16qpY6LKQTVK",
        "outputId": "cd40ffdf-d52b-42d9-e167-7be0bfaf5a2d"
      },
      "source": [
        "from sklearn.feature_selection import SelectFromModel\n",
        "from sklearn.ensemble import RandomForestClassifier\n",
        "\n",
        "embeded_rf_selector = SelectFromModel(RandomForestClassifier(n_estimators=100, criterion='gini'), max_features=num_feats)\n",
        "embeded_rf_selector.fit(X, y)\n",
        "\n",
        "embeded_rf_support = embeded_rf_selector.get_support()\n",
        "embeded_rf_feature = X.loc[:,embeded_rf_support].columns.tolist()\n",
        "print(str(len(embeded_rf_feature)), 'selected features')"
      ],
      "execution_count": 415,
      "outputs": [
        {
          "output_type": "stream",
          "name": "stdout",
          "text": [
            "8 selected features\n"
          ]
        }
      ]
    },
    {
      "cell_type": "code",
      "metadata": {
        "colab": {
          "base_uri": "https://localhost:8080/"
        },
        "id": "WRiZaIurQWTA",
        "outputId": "d5315444-3e47-4a31-8548-a8044bc0fd0c"
      },
      "source": [
        "from sklearn.feature_selection import SelectFromModel\n",
        "from lightgbm import LGBMClassifier\n",
        "\n",
        "lgbc=LGBMClassifier(n_estimators=500, learning_rate=0.05, num_leaves=32, colsample_bytree=0.2,\n",
        "            reg_alpha=3, reg_lambda=1, min_split_gain=0.01, min_child_weight=40)\n",
        "\n",
        "embeded_lgb_selector = SelectFromModel(lgbc, max_features=num_feats)\n",
        "embeded_lgb_selector.fit(X, y)\n",
        "\n",
        "embeded_lgb_support = embeded_lgb_selector.get_support()\n",
        "embeded_lgb_feature = X.loc[:,embeded_lgb_support].columns.tolist()\n",
        "print(str(len(embeded_lgb_feature)), 'selected features')"
      ],
      "execution_count": 416,
      "outputs": [
        {
          "output_type": "stream",
          "name": "stdout",
          "text": [
            "11 selected features\n"
          ]
        }
      ]
    },
    {
      "cell_type": "code",
      "metadata": {
        "colab": {
          "base_uri": "https://localhost:8080/",
          "height": 388
        },
        "id": "YaJq6Bc-QYa1",
        "outputId": "28a7cc11-de0b-4fd2-ed26-5016933c35f5"
      },
      "source": [
        "# put all selection together\n",
        "feature_name = X.columns\n",
        "feature_selection_df = pd.DataFrame({'Feature':feature_name, 'Pearson':cor_support, 'Chi-2':chi_support, 'RFE':rfe_support, 'Logistics':embeded_lr_support,\n",
        "                                    'Random Forest':embeded_rf_support, 'LightGBM':embeded_lgb_support})\n",
        "# count the selected times for each feature\n",
        "feature_selection_df['Total'] = np.sum(feature_selection_df, axis=1)\n",
        "# display the top 100\n",
        "feature_selection_df = feature_selection_df.sort_values(['Total','Feature'] , ascending=False)\n",
        "feature_selection_df.index = range(1, len(feature_selection_df)+1)\n",
        "feature_selection_df.head(num_feats)"
      ],
      "execution_count": 417,
      "outputs": [
        {
          "output_type": "execute_result",
          "data": {
            "text/html": [
              "<div>\n",
              "<style scoped>\n",
              "    .dataframe tbody tr th:only-of-type {\n",
              "        vertical-align: middle;\n",
              "    }\n",
              "\n",
              "    .dataframe tbody tr th {\n",
              "        vertical-align: top;\n",
              "    }\n",
              "\n",
              "    .dataframe thead th {\n",
              "        text-align: right;\n",
              "    }\n",
              "</style>\n",
              "<table border=\"1\" class=\"dataframe\">\n",
              "  <thead>\n",
              "    <tr style=\"text-align: right;\">\n",
              "      <th></th>\n",
              "      <th>Feature</th>\n",
              "      <th>Pearson</th>\n",
              "      <th>Chi-2</th>\n",
              "      <th>RFE</th>\n",
              "      <th>Logistics</th>\n",
              "      <th>Random Forest</th>\n",
              "      <th>LightGBM</th>\n",
              "      <th>Total</th>\n",
              "    </tr>\n",
              "  </thead>\n",
              "  <tbody>\n",
              "    <tr>\n",
              "      <th>1</th>\n",
              "      <td>thall</td>\n",
              "      <td>True</td>\n",
              "      <td>True</td>\n",
              "      <td>True</td>\n",
              "      <td>True</td>\n",
              "      <td>True</td>\n",
              "      <td>True</td>\n",
              "      <td>6</td>\n",
              "    </tr>\n",
              "    <tr>\n",
              "      <th>2</th>\n",
              "      <td>st_depression</td>\n",
              "      <td>True</td>\n",
              "      <td>True</td>\n",
              "      <td>True</td>\n",
              "      <td>True</td>\n",
              "      <td>True</td>\n",
              "      <td>True</td>\n",
              "      <td>6</td>\n",
              "    </tr>\n",
              "    <tr>\n",
              "      <th>3</th>\n",
              "      <td>max_heart_rate_achieved</td>\n",
              "      <td>True</td>\n",
              "      <td>True</td>\n",
              "      <td>True</td>\n",
              "      <td>True</td>\n",
              "      <td>True</td>\n",
              "      <td>True</td>\n",
              "      <td>6</td>\n",
              "    </tr>\n",
              "    <tr>\n",
              "      <th>4</th>\n",
              "      <td>caa</td>\n",
              "      <td>True</td>\n",
              "      <td>True</td>\n",
              "      <td>True</td>\n",
              "      <td>True</td>\n",
              "      <td>True</td>\n",
              "      <td>True</td>\n",
              "      <td>6</td>\n",
              "    </tr>\n",
              "    <tr>\n",
              "      <th>5</th>\n",
              "      <td>sex_male</td>\n",
              "      <td>True</td>\n",
              "      <td>True</td>\n",
              "      <td>True</td>\n",
              "      <td>True</td>\n",
              "      <td>False</td>\n",
              "      <td>True</td>\n",
              "      <td>5</td>\n",
              "    </tr>\n",
              "    <tr>\n",
              "      <th>6</th>\n",
              "      <td>chest_pain_type_typical angina</td>\n",
              "      <td>True</td>\n",
              "      <td>True</td>\n",
              "      <td>True</td>\n",
              "      <td>True</td>\n",
              "      <td>True</td>\n",
              "      <td>False</td>\n",
              "      <td>5</td>\n",
              "    </tr>\n",
              "    <tr>\n",
              "      <th>7</th>\n",
              "      <td>st_slope_upsloping</td>\n",
              "      <td>True</td>\n",
              "      <td>True</td>\n",
              "      <td>True</td>\n",
              "      <td>True</td>\n",
              "      <td>False</td>\n",
              "      <td>False</td>\n",
              "      <td>4</td>\n",
              "    </tr>\n",
              "    <tr>\n",
              "      <th>8</th>\n",
              "      <td>exercise_induced_angina</td>\n",
              "      <td>True</td>\n",
              "      <td>True</td>\n",
              "      <td>True</td>\n",
              "      <td>False</td>\n",
              "      <td>False</td>\n",
              "      <td>True</td>\n",
              "      <td>4</td>\n",
              "    </tr>\n",
              "    <tr>\n",
              "      <th>9</th>\n",
              "      <td>age</td>\n",
              "      <td>True</td>\n",
              "      <td>False</td>\n",
              "      <td>True</td>\n",
              "      <td>False</td>\n",
              "      <td>True</td>\n",
              "      <td>True</td>\n",
              "      <td>4</td>\n",
              "    </tr>\n",
              "    <tr>\n",
              "      <th>10</th>\n",
              "      <td>resting_blood_pressure</td>\n",
              "      <td>False</td>\n",
              "      <td>False</td>\n",
              "      <td>True</td>\n",
              "      <td>False</td>\n",
              "      <td>True</td>\n",
              "      <td>True</td>\n",
              "      <td>3</td>\n",
              "    </tr>\n",
              "    <tr>\n",
              "      <th>11</th>\n",
              "      <td>cholesterol</td>\n",
              "      <td>False</td>\n",
              "      <td>False</td>\n",
              "      <td>True</td>\n",
              "      <td>False</td>\n",
              "      <td>True</td>\n",
              "      <td>True</td>\n",
              "      <td>3</td>\n",
              "    </tr>\n",
              "  </tbody>\n",
              "</table>\n",
              "</div>"
            ],
            "text/plain": [
              "                           Feature  Pearson  ...  LightGBM  Total\n",
              "1                            thall     True  ...      True      6\n",
              "2                    st_depression     True  ...      True      6\n",
              "3          max_heart_rate_achieved     True  ...      True      6\n",
              "4                              caa     True  ...      True      6\n",
              "5                         sex_male     True  ...      True      5\n",
              "6   chest_pain_type_typical angina     True  ...     False      5\n",
              "7               st_slope_upsloping     True  ...     False      4\n",
              "8          exercise_induced_angina     True  ...      True      4\n",
              "9                              age     True  ...      True      4\n",
              "10          resting_blood_pressure    False  ...      True      3\n",
              "11                     cholesterol    False  ...      True      3\n",
              "\n",
              "[11 rows x 8 columns]"
            ]
          },
          "metadata": {},
          "execution_count": 417
        }
      ]
    },
    {
      "cell_type": "code",
      "metadata": {
        "id": "rJBcFtAkQcJP"
      },
      "source": [
        "# segregating dataset into features i.e., X and target variables i.e., y\n",
        "X = dt.drop(['target','resting_blood_pressure','sex_male','chest_pain_type_non-anginal pain','chest_pain_type_atypical angina'],axis=1)\n",
        "y = dt['target']"
      ],
      "execution_count": 419,
      "outputs": []
    },
    {
      "cell_type": "code",
      "metadata": {
        "id": "RaMo0HuQQiNg"
      },
      "source": [
        "X_train, X_test, y_train, y_test = train_test_split(X, y, stratify=y, test_size=0.2,shuffle=True, random_state=5)"
      ],
      "execution_count": 420,
      "outputs": []
    },
    {
      "cell_type": "code",
      "metadata": {
        "colab": {
          "base_uri": "https://localhost:8080/",
          "height": 458
        },
        "id": "5Y780vTzQkoR",
        "outputId": "9ab7d60e-712b-4b6a-bede-83d534c877e2"
      },
      "source": [
        "from sklearn.preprocessing import MinMaxScaler\n",
        "scaler = MinMaxScaler()\n",
        "X_train[['age','cholesterol','max_heart_rate_achieved','st_depression']] = scaler.fit_transform(X_train[['age','cholesterol','max_heart_rate_achieved','st_depression']])\n",
        "X_train.head()"
      ],
      "execution_count": 421,
      "outputs": [
        {
          "output_type": "stream",
          "name": "stderr",
          "text": [
            "/usr/local/lib/python3.7/dist-packages/ipykernel_launcher.py:3: SettingWithCopyWarning: \n",
            "A value is trying to be set on a copy of a slice from a DataFrame.\n",
            "Try using .loc[row_indexer,col_indexer] = value instead\n",
            "\n",
            "See the caveats in the documentation: https://pandas.pydata.org/pandas-docs/stable/user_guide/indexing.html#returning-a-view-versus-a-copy\n",
            "  This is separate from the ipykernel package so we can avoid doing imports until\n",
            "/usr/local/lib/python3.7/dist-packages/pandas/core/indexing.py:1734: SettingWithCopyWarning: \n",
            "A value is trying to be set on a copy of a slice from a DataFrame.\n",
            "Try using .loc[row_indexer,col_indexer] = value instead\n",
            "\n",
            "See the caveats in the documentation: https://pandas.pydata.org/pandas-docs/stable/user_guide/indexing.html#returning-a-view-versus-a-copy\n",
            "  isetter(loc, value[:, i].tolist())\n"
          ]
        },
        {
          "output_type": "execute_result",
          "data": {
            "text/html": [
              "<div>\n",
              "<style scoped>\n",
              "    .dataframe tbody tr th:only-of-type {\n",
              "        vertical-align: middle;\n",
              "    }\n",
              "\n",
              "    .dataframe tbody tr th {\n",
              "        vertical-align: top;\n",
              "    }\n",
              "\n",
              "    .dataframe thead th {\n",
              "        text-align: right;\n",
              "    }\n",
              "</style>\n",
              "<table border=\"1\" class=\"dataframe\">\n",
              "  <thead>\n",
              "    <tr style=\"text-align: right;\">\n",
              "      <th></th>\n",
              "      <th>age</th>\n",
              "      <th>cholesterol</th>\n",
              "      <th>fasting_blood_sugar</th>\n",
              "      <th>max_heart_rate_achieved</th>\n",
              "      <th>exercise_induced_angina</th>\n",
              "      <th>st_depression</th>\n",
              "      <th>caa</th>\n",
              "      <th>thall</th>\n",
              "      <th>chest_pain_type_typical angina</th>\n",
              "      <th>rest_ecg_left ventricular hypertrophy</th>\n",
              "      <th>rest_ecg_normal</th>\n",
              "      <th>st_slope_upsloping</th>\n",
              "    </tr>\n",
              "  </thead>\n",
              "  <tbody>\n",
              "    <tr>\n",
              "      <th>186</th>\n",
              "      <td>0.645833</td>\n",
              "      <td>0.473881</td>\n",
              "      <td>0</td>\n",
              "      <td>0.491228</td>\n",
              "      <td>1</td>\n",
              "      <td>0.35</td>\n",
              "      <td>1</td>\n",
              "      <td>3</td>\n",
              "      <td>1</td>\n",
              "      <td>0</td>\n",
              "      <td>0</td>\n",
              "      <td>0</td>\n",
              "    </tr>\n",
              "    <tr>\n",
              "      <th>123</th>\n",
              "      <td>0.520833</td>\n",
              "      <td>0.526119</td>\n",
              "      <td>0</td>\n",
              "      <td>0.692982</td>\n",
              "      <td>0</td>\n",
              "      <td>0.00</td>\n",
              "      <td>0</td>\n",
              "      <td>2</td>\n",
              "      <td>0</td>\n",
              "      <td>0</td>\n",
              "      <td>1</td>\n",
              "      <td>0</td>\n",
              "    </tr>\n",
              "    <tr>\n",
              "      <th>81</th>\n",
              "      <td>0.333333</td>\n",
              "      <td>0.679104</td>\n",
              "      <td>0</td>\n",
              "      <td>0.719298</td>\n",
              "      <td>0</td>\n",
              "      <td>0.00</td>\n",
              "      <td>0</td>\n",
              "      <td>2</td>\n",
              "      <td>0</td>\n",
              "      <td>0</td>\n",
              "      <td>1</td>\n",
              "      <td>0</td>\n",
              "    </tr>\n",
              "    <tr>\n",
              "      <th>270</th>\n",
              "      <td>0.354167</td>\n",
              "      <td>0.458955</td>\n",
              "      <td>0</td>\n",
              "      <td>0.491228</td>\n",
              "      <td>0</td>\n",
              "      <td>0.20</td>\n",
              "      <td>0</td>\n",
              "      <td>3</td>\n",
              "      <td>1</td>\n",
              "      <td>0</td>\n",
              "      <td>1</td>\n",
              "      <td>0</td>\n",
              "    </tr>\n",
              "    <tr>\n",
              "      <th>177</th>\n",
              "      <td>0.729167</td>\n",
              "      <td>0.779851</td>\n",
              "      <td>0</td>\n",
              "      <td>0.614035</td>\n",
              "      <td>0</td>\n",
              "      <td>0.00</td>\n",
              "      <td>0</td>\n",
              "      <td>2</td>\n",
              "      <td>0</td>\n",
              "      <td>0</td>\n",
              "      <td>0</td>\n",
              "      <td>0</td>\n",
              "    </tr>\n",
              "  </tbody>\n",
              "</table>\n",
              "</div>"
            ],
            "text/plain": [
              "          age  cholesterol  ...  rest_ecg_normal  st_slope_upsloping\n",
              "186  0.645833     0.473881  ...                0                   0\n",
              "123  0.520833     0.526119  ...                1                   0\n",
              "81   0.333333     0.679104  ...                1                   0\n",
              "270  0.354167     0.458955  ...                1                   0\n",
              "177  0.729167     0.779851  ...                0                   0\n",
              "\n",
              "[5 rows x 12 columns]"
            ]
          },
          "metadata": {},
          "execution_count": 421
        }
      ]
    },
    {
      "cell_type": "code",
      "metadata": {
        "colab": {
          "base_uri": "https://localhost:8080/",
          "height": 458
        },
        "id": "diE_WcYyQmjY",
        "outputId": "ec3edb3f-c979-44b8-b0b5-f2afcfeb55a8"
      },
      "source": [
        "X_test[['age','cholesterol','max_heart_rate_achieved','st_depression']] = scaler.transform(X_test[['age','cholesterol','max_heart_rate_achieved','st_depression']])\n",
        "X_test.head()"
      ],
      "execution_count": 422,
      "outputs": [
        {
          "output_type": "stream",
          "name": "stderr",
          "text": [
            "/usr/local/lib/python3.7/dist-packages/ipykernel_launcher.py:1: SettingWithCopyWarning: \n",
            "A value is trying to be set on a copy of a slice from a DataFrame.\n",
            "Try using .loc[row_indexer,col_indexer] = value instead\n",
            "\n",
            "See the caveats in the documentation: https://pandas.pydata.org/pandas-docs/stable/user_guide/indexing.html#returning-a-view-versus-a-copy\n",
            "  \"\"\"Entry point for launching an IPython kernel.\n",
            "/usr/local/lib/python3.7/dist-packages/pandas/core/indexing.py:1734: SettingWithCopyWarning: \n",
            "A value is trying to be set on a copy of a slice from a DataFrame.\n",
            "Try using .loc[row_indexer,col_indexer] = value instead\n",
            "\n",
            "See the caveats in the documentation: https://pandas.pydata.org/pandas-docs/stable/user_guide/indexing.html#returning-a-view-versus-a-copy\n",
            "  isetter(loc, value[:, i].tolist())\n"
          ]
        },
        {
          "output_type": "execute_result",
          "data": {
            "text/html": [
              "<div>\n",
              "<style scoped>\n",
              "    .dataframe tbody tr th:only-of-type {\n",
              "        vertical-align: middle;\n",
              "    }\n",
              "\n",
              "    .dataframe tbody tr th {\n",
              "        vertical-align: top;\n",
              "    }\n",
              "\n",
              "    .dataframe thead th {\n",
              "        text-align: right;\n",
              "    }\n",
              "</style>\n",
              "<table border=\"1\" class=\"dataframe\">\n",
              "  <thead>\n",
              "    <tr style=\"text-align: right;\">\n",
              "      <th></th>\n",
              "      <th>age</th>\n",
              "      <th>cholesterol</th>\n",
              "      <th>fasting_blood_sugar</th>\n",
              "      <th>max_heart_rate_achieved</th>\n",
              "      <th>exercise_induced_angina</th>\n",
              "      <th>st_depression</th>\n",
              "      <th>caa</th>\n",
              "      <th>thall</th>\n",
              "      <th>chest_pain_type_typical angina</th>\n",
              "      <th>rest_ecg_left ventricular hypertrophy</th>\n",
              "      <th>rest_ecg_normal</th>\n",
              "      <th>st_slope_upsloping</th>\n",
              "    </tr>\n",
              "  </thead>\n",
              "  <tbody>\n",
              "    <tr>\n",
              "      <th>253</th>\n",
              "      <td>0.791667</td>\n",
              "      <td>0.645522</td>\n",
              "      <td>0</td>\n",
              "      <td>0.324561</td>\n",
              "      <td>1</td>\n",
              "      <td>0.225</td>\n",
              "      <td>2</td>\n",
              "      <td>2</td>\n",
              "      <td>1</td>\n",
              "      <td>0</td>\n",
              "      <td>1</td>\n",
              "      <td>1</td>\n",
              "    </tr>\n",
              "    <tr>\n",
              "      <th>237</th>\n",
              "      <td>0.645833</td>\n",
              "      <td>0.623134</td>\n",
              "      <td>0</td>\n",
              "      <td>0.719298</td>\n",
              "      <td>0</td>\n",
              "      <td>0.300</td>\n",
              "      <td>2</td>\n",
              "      <td>3</td>\n",
              "      <td>1</td>\n",
              "      <td>0</td>\n",
              "      <td>1</td>\n",
              "      <td>1</td>\n",
              "    </tr>\n",
              "    <tr>\n",
              "      <th>22</th>\n",
              "      <td>0.270833</td>\n",
              "      <td>0.373134</td>\n",
              "      <td>0</td>\n",
              "      <td>0.789474</td>\n",
              "      <td>0</td>\n",
              "      <td>0.000</td>\n",
              "      <td>0</td>\n",
              "      <td>2</td>\n",
              "      <td>1</td>\n",
              "      <td>0</td>\n",
              "      <td>0</td>\n",
              "      <td>0</td>\n",
              "    </tr>\n",
              "    <tr>\n",
              "      <th>196</th>\n",
              "      <td>0.354167</td>\n",
              "      <td>0.391791</td>\n",
              "      <td>0</td>\n",
              "      <td>0.517544</td>\n",
              "      <td>0</td>\n",
              "      <td>0.900</td>\n",
              "      <td>0</td>\n",
              "      <td>2</td>\n",
              "      <td>0</td>\n",
              "      <td>0</td>\n",
              "      <td>0</td>\n",
              "      <td>1</td>\n",
              "    </tr>\n",
              "    <tr>\n",
              "      <th>214</th>\n",
              "      <td>0.562500</td>\n",
              "      <td>0.458955</td>\n",
              "      <td>1</td>\n",
              "      <td>0.491228</td>\n",
              "      <td>1</td>\n",
              "      <td>0.300</td>\n",
              "      <td>1</td>\n",
              "      <td>2</td>\n",
              "      <td>1</td>\n",
              "      <td>0</td>\n",
              "      <td>1</td>\n",
              "      <td>1</td>\n",
              "    </tr>\n",
              "  </tbody>\n",
              "</table>\n",
              "</div>"
            ],
            "text/plain": [
              "          age  cholesterol  ...  rest_ecg_normal  st_slope_upsloping\n",
              "253  0.791667     0.645522  ...                1                   1\n",
              "237  0.645833     0.623134  ...                1                   1\n",
              "22   0.270833     0.373134  ...                0                   0\n",
              "196  0.354167     0.391791  ...                0                   1\n",
              "214  0.562500     0.458955  ...                1                   1\n",
              "\n",
              "[5 rows x 12 columns]"
            ]
          },
          "metadata": {},
          "execution_count": 422
        }
      ]
    },
    {
      "cell_type": "code",
      "metadata": {
        "colab": {
          "base_uri": "https://localhost:8080/"
        },
        "id": "U6LCLOC6Qpx1",
        "outputId": "0821daec-d652-43f4-e681-1bd4df63f248"
      },
      "source": [
        "import xgboost as xgb\n",
        "models = GetBasedModel()\n",
        "names,results = BasedLine2(X_train, y_train,models)"
      ],
      "execution_count": 423,
      "outputs": [
        {
          "output_type": "stream",
          "name": "stderr",
          "text": [
            "/usr/local/lib/python3.7/dist-packages/sklearn/model_selection/_split.py:296: FutureWarning: Setting a random_state has no effect since shuffle is False. This will raise an error in 0.24. You should leave random_state to its default (None), or set shuffle=True.\n",
            "  FutureWarning\n",
            "/usr/local/lib/python3.7/dist-packages/sklearn/model_selection/_split.py:296: FutureWarning: Setting a random_state has no effect since shuffle is False. This will raise an error in 0.24. You should leave random_state to its default (None), or set shuffle=True.\n",
            "  FutureWarning\n",
            "/usr/local/lib/python3.7/dist-packages/sklearn/model_selection/_split.py:296: FutureWarning: Setting a random_state has no effect since shuffle is False. This will raise an error in 0.24. You should leave random_state to its default (None), or set shuffle=True.\n",
            "  FutureWarning\n",
            "/usr/local/lib/python3.7/dist-packages/sklearn/model_selection/_split.py:296: FutureWarning: Setting a random_state has no effect since shuffle is False. This will raise an error in 0.24. You should leave random_state to its default (None), or set shuffle=True.\n",
            "  FutureWarning\n"
          ]
        },
        {
          "output_type": "stream",
          "name": "stdout",
          "text": [
            "LR_L2: 0.818182 (0.097489)\n",
            "LDA: 0.813636 (0.087315)\n",
            "KNN7: 0.854545 (0.075515)\n",
            "KNN5: 0.840909 (0.079383)\n",
            "KNN9: 0.827273 (0.088140)\n"
          ]
        },
        {
          "output_type": "stream",
          "name": "stderr",
          "text": [
            "/usr/local/lib/python3.7/dist-packages/sklearn/model_selection/_split.py:296: FutureWarning: Setting a random_state has no effect since shuffle is False. This will raise an error in 0.24. You should leave random_state to its default (None), or set shuffle=True.\n",
            "  FutureWarning\n",
            "/usr/local/lib/python3.7/dist-packages/sklearn/model_selection/_split.py:296: FutureWarning: Setting a random_state has no effect since shuffle is False. This will raise an error in 0.24. You should leave random_state to its default (None), or set shuffle=True.\n",
            "  FutureWarning\n",
            "/usr/local/lib/python3.7/dist-packages/sklearn/model_selection/_split.py:296: FutureWarning: Setting a random_state has no effect since shuffle is False. This will raise an error in 0.24. You should leave random_state to its default (None), or set shuffle=True.\n",
            "  FutureWarning\n",
            "/usr/local/lib/python3.7/dist-packages/sklearn/model_selection/_split.py:296: FutureWarning: Setting a random_state has no effect since shuffle is False. This will raise an error in 0.24. You should leave random_state to its default (None), or set shuffle=True.\n",
            "  FutureWarning\n",
            "/usr/local/lib/python3.7/dist-packages/sklearn/model_selection/_split.py:296: FutureWarning: Setting a random_state has no effect since shuffle is False. This will raise an error in 0.24. You should leave random_state to its default (None), or set shuffle=True.\n",
            "  FutureWarning\n"
          ]
        },
        {
          "output_type": "stream",
          "name": "stdout",
          "text": [
            "KNN11: 0.836364 (0.084306)\n",
            "CART: 0.768182 (0.065713)\n",
            "NB: 0.795455 (0.109940)\n",
            "SVM Linear: 0.786364 (0.093265)\n"
          ]
        },
        {
          "output_type": "stream",
          "name": "stderr",
          "text": [
            "/usr/local/lib/python3.7/dist-packages/sklearn/model_selection/_split.py:296: FutureWarning: Setting a random_state has no effect since shuffle is False. This will raise an error in 0.24. You should leave random_state to its default (None), or set shuffle=True.\n",
            "  FutureWarning\n",
            "/usr/local/lib/python3.7/dist-packages/sklearn/model_selection/_split.py:296: FutureWarning: Setting a random_state has no effect since shuffle is False. This will raise an error in 0.24. You should leave random_state to its default (None), or set shuffle=True.\n",
            "  FutureWarning\n"
          ]
        },
        {
          "output_type": "stream",
          "name": "stdout",
          "text": [
            "SVM RBF: 0.845455 (0.079253)\n",
            "AB: 0.750000 (0.093707)\n"
          ]
        },
        {
          "output_type": "stream",
          "name": "stderr",
          "text": [
            "/usr/local/lib/python3.7/dist-packages/sklearn/model_selection/_split.py:296: FutureWarning: Setting a random_state has no effect since shuffle is False. This will raise an error in 0.24. You should leave random_state to its default (None), or set shuffle=True.\n",
            "  FutureWarning\n"
          ]
        },
        {
          "output_type": "stream",
          "name": "stdout",
          "text": [
            "GBM: 0.800000 (0.081818)\n"
          ]
        },
        {
          "output_type": "stream",
          "name": "stderr",
          "text": [
            "/usr/local/lib/python3.7/dist-packages/sklearn/model_selection/_split.py:296: FutureWarning: Setting a random_state has no effect since shuffle is False. This will raise an error in 0.24. You should leave random_state to its default (None), or set shuffle=True.\n",
            "  FutureWarning\n"
          ]
        },
        {
          "output_type": "stream",
          "name": "stdout",
          "text": [
            "RF_Ent100: 0.781818 (0.099170)\n"
          ]
        },
        {
          "output_type": "stream",
          "name": "stderr",
          "text": [
            "/usr/local/lib/python3.7/dist-packages/sklearn/model_selection/_split.py:296: FutureWarning: Setting a random_state has no effect since shuffle is False. This will raise an error in 0.24. You should leave random_state to its default (None), or set shuffle=True.\n",
            "  FutureWarning\n"
          ]
        },
        {
          "output_type": "stream",
          "name": "stdout",
          "text": [
            "RF_Gini100: 0.800000 (0.089072)\n"
          ]
        },
        {
          "output_type": "stream",
          "name": "stderr",
          "text": [
            "/usr/local/lib/python3.7/dist-packages/sklearn/model_selection/_split.py:296: FutureWarning: Setting a random_state has no effect since shuffle is False. This will raise an error in 0.24. You should leave random_state to its default (None), or set shuffle=True.\n",
            "  FutureWarning\n"
          ]
        },
        {
          "output_type": "stream",
          "name": "stdout",
          "text": [
            "ET100: 0.786364 (0.099690)\n"
          ]
        },
        {
          "output_type": "stream",
          "name": "stderr",
          "text": [
            "/usr/local/lib/python3.7/dist-packages/sklearn/model_selection/_split.py:296: FutureWarning: Setting a random_state has no effect since shuffle is False. This will raise an error in 0.24. You should leave random_state to its default (None), or set shuffle=True.\n",
            "  FutureWarning\n"
          ]
        },
        {
          "output_type": "stream",
          "name": "stdout",
          "text": [
            "ET500: 0.809091 (0.097064)\n"
          ]
        },
        {
          "output_type": "stream",
          "name": "stderr",
          "text": [
            "/usr/local/lib/python3.7/dist-packages/sklearn/model_selection/_split.py:296: FutureWarning: Setting a random_state has no effect since shuffle is False. This will raise an error in 0.24. You should leave random_state to its default (None), or set shuffle=True.\n",
            "  FutureWarning\n",
            "/usr/local/lib/python3.7/dist-packages/sklearn/neural_network/_multilayer_perceptron.py:571: ConvergenceWarning: Stochastic Optimizer: Maximum iterations (200) reached and the optimization hasn't converged yet.\n",
            "  % self.max_iter, ConvergenceWarning)\n",
            "/usr/local/lib/python3.7/dist-packages/sklearn/neural_network/_multilayer_perceptron.py:571: ConvergenceWarning: Stochastic Optimizer: Maximum iterations (200) reached and the optimization hasn't converged yet.\n",
            "  % self.max_iter, ConvergenceWarning)\n",
            "/usr/local/lib/python3.7/dist-packages/sklearn/neural_network/_multilayer_perceptron.py:571: ConvergenceWarning: Stochastic Optimizer: Maximum iterations (200) reached and the optimization hasn't converged yet.\n",
            "  % self.max_iter, ConvergenceWarning)\n",
            "/usr/local/lib/python3.7/dist-packages/sklearn/neural_network/_multilayer_perceptron.py:571: ConvergenceWarning: Stochastic Optimizer: Maximum iterations (200) reached and the optimization hasn't converged yet.\n",
            "  % self.max_iter, ConvergenceWarning)\n",
            "/usr/local/lib/python3.7/dist-packages/sklearn/neural_network/_multilayer_perceptron.py:571: ConvergenceWarning: Stochastic Optimizer: Maximum iterations (200) reached and the optimization hasn't converged yet.\n",
            "  % self.max_iter, ConvergenceWarning)\n",
            "/usr/local/lib/python3.7/dist-packages/sklearn/neural_network/_multilayer_perceptron.py:571: ConvergenceWarning: Stochastic Optimizer: Maximum iterations (200) reached and the optimization hasn't converged yet.\n",
            "  % self.max_iter, ConvergenceWarning)\n",
            "/usr/local/lib/python3.7/dist-packages/sklearn/neural_network/_multilayer_perceptron.py:571: ConvergenceWarning: Stochastic Optimizer: Maximum iterations (200) reached and the optimization hasn't converged yet.\n",
            "  % self.max_iter, ConvergenceWarning)\n",
            "/usr/local/lib/python3.7/dist-packages/sklearn/neural_network/_multilayer_perceptron.py:571: ConvergenceWarning: Stochastic Optimizer: Maximum iterations (200) reached and the optimization hasn't converged yet.\n",
            "  % self.max_iter, ConvergenceWarning)\n",
            "/usr/local/lib/python3.7/dist-packages/sklearn/neural_network/_multilayer_perceptron.py:571: ConvergenceWarning: Stochastic Optimizer: Maximum iterations (200) reached and the optimization hasn't converged yet.\n",
            "  % self.max_iter, ConvergenceWarning)\n",
            "/usr/local/lib/python3.7/dist-packages/sklearn/neural_network/_multilayer_perceptron.py:571: ConvergenceWarning: Stochastic Optimizer: Maximum iterations (200) reached and the optimization hasn't converged yet.\n",
            "  % self.max_iter, ConvergenceWarning)\n",
            "/usr/local/lib/python3.7/dist-packages/sklearn/model_selection/_split.py:296: FutureWarning: Setting a random_state has no effect since shuffle is False. This will raise an error in 0.24. You should leave random_state to its default (None), or set shuffle=True.\n",
            "  FutureWarning\n",
            "/usr/local/lib/python3.7/dist-packages/sklearn/model_selection/_split.py:296: FutureWarning: Setting a random_state has no effect since shuffle is False. This will raise an error in 0.24. You should leave random_state to its default (None), or set shuffle=True.\n",
            "  FutureWarning\n"
          ]
        },
        {
          "output_type": "stream",
          "name": "stdout",
          "text": [
            "MLP: 0.831818 (0.086364)\n",
            "SGD3000: 0.736364 (0.060302)\n",
            "XGB_2000: 0.763636 (0.121628)\n",
            "XGB_500: 0.750000 (0.122390)\n",
            "XGB_100: 0.781818 (0.099170)\n",
            "XGB_1000: 0.763636 (0.126622)\n",
            "ET1000: 0.800000 (0.102045)\n"
          ]
        }
      ]
    },
    {
      "cell_type": "code",
      "metadata": {
        "id": "HqzC_G-CQ1Vw"
      },
      "source": [
        "import xgboost as xgb\n",
        "clf1=RandomForestClassifier(criterion='entropy',n_estimators=100)\n",
        "\n",
        "clf2=DecisionTreeClassifier()\n",
        "clf3=xgb.XGBClassifier(n_estimators= 1000)\n",
        "clf4=ExtraTreesClassifier(n_estimators= 500)\n",
        "\n",
        "clf5=GradientBoostingClassifier(n_estimators=100,max_features='sqrt')\n",
        "\n",
        "\n",
        "eclf1 = VotingClassifier(estimators=[('rfe', clf1), ('decc', clf2), ('xgb', clf3),('ET',clf4),('gb',clf5),], \n",
        "                         voting='soft', weights=[4,1,2,3,1])\n",
        "eclf1.fit(X_train,y_train)\n",
        "y_pred_sv =eclf1.predict(X_test)"
      ],
      "execution_count": 424,
      "outputs": []
    },
    {
      "cell_type": "code",
      "metadata": {
        "colab": {
          "base_uri": "https://localhost:8080/",
          "height": 332
        },
        "id": "BLaOzBAlQ4t6",
        "outputId": "5f1b904a-028b-484e-a770-9fcc9beae771"
      },
      "source": [
        "CM=confusion_matrix(y_test,y_pred_sv)\n",
        "sns.heatmap(CM, annot=True)\n",
        "\n",
        "TN = CM[0][0]\n",
        "FN = CM[1][0]\n",
        "TP = CM[1][1]\n",
        "FP = CM[0][1]\n",
        "specificity = TN/(TN+FP)\n",
        "loss_log = log_loss(y_test, y_pred_sv)\n",
        "acc= accuracy_score(y_test, y_pred_sv)\n",
        "roc=roc_auc_score(y_test, y_pred_sv)\n",
        "prec = precision_score(y_test, y_pred_sv)\n",
        "rec = recall_score(y_test, y_pred_sv)\n",
        "f1 = f1_score(y_test, y_pred_sv)\n",
        "\n",
        "mathew = matthews_corrcoef(y_test, y_pred_sv)\n",
        "model_results =pd.DataFrame([['Soft Voting',acc, prec,rec,specificity, f1,roc, loss_log,mathew]],\n",
        "               columns = ['Model', 'Accuracy','Precision', 'Sensitivity','Specificity', 'F1 Score','ROC','Log_Loss','mathew_corrcoef'])\n",
        "\n",
        "model_results"
      ],
      "execution_count": 426,
      "outputs": [
        {
          "output_type": "execute_result",
          "data": {
            "text/html": [
              "<div>\n",
              "<style scoped>\n",
              "    .dataframe tbody tr th:only-of-type {\n",
              "        vertical-align: middle;\n",
              "    }\n",
              "\n",
              "    .dataframe tbody tr th {\n",
              "        vertical-align: top;\n",
              "    }\n",
              "\n",
              "    .dataframe thead th {\n",
              "        text-align: right;\n",
              "    }\n",
              "</style>\n",
              "<table border=\"1\" class=\"dataframe\">\n",
              "  <thead>\n",
              "    <tr style=\"text-align: right;\">\n",
              "      <th></th>\n",
              "      <th>Model</th>\n",
              "      <th>Accuracy</th>\n",
              "      <th>Precision</th>\n",
              "      <th>Sensitivity</th>\n",
              "      <th>Specificity</th>\n",
              "      <th>F1 Score</th>\n",
              "      <th>ROC</th>\n",
              "      <th>Log_Loss</th>\n",
              "      <th>mathew_corrcoef</th>\n",
              "    </tr>\n",
              "  </thead>\n",
              "  <tbody>\n",
              "    <tr>\n",
              "      <th>0</th>\n",
              "      <td>Soft Voting</td>\n",
              "      <td>0.803571</td>\n",
              "      <td>0.833333</td>\n",
              "      <td>0.806452</td>\n",
              "      <td>0.8</td>\n",
              "      <td>0.819672</td>\n",
              "      <td>0.803226</td>\n",
              "      <td>6.784474</td>\n",
              "      <td>0.604505</td>\n",
              "    </tr>\n",
              "  </tbody>\n",
              "</table>\n",
              "</div>"
            ],
            "text/plain": [
              "         Model  Accuracy  Precision  ...       ROC  Log_Loss  mathew_corrcoef\n",
              "0  Soft Voting  0.803571   0.833333  ...  0.803226  6.784474         0.604505\n",
              "\n",
              "[1 rows x 9 columns]"
            ]
          },
          "metadata": {},
          "execution_count": 426
        },
        {
          "output_type": "display_data",
          "data": {
            "image/png": "[encoded data removed]",
            "text/plain": [
              "<Figure size 432x288 with 2 Axes>"
            ]
          },
          "metadata": {
            "needs_background": "light"
          }
        }
      ]
    },
    {
      "cell_type": "code",
      "metadata": {
        "id": "obUVDlS1RHZe"
      },
      "source": [
        "rf_ent = RandomForestClassifier(criterion='entropy',n_estimators=100)\n",
        "rf_ent.fit(X_train, y_train)\n",
        "y_pred_rfe = rf_ent.predict(X_test)"
      ],
      "execution_count": 427,
      "outputs": []
    },
    {
      "cell_type": "code",
      "metadata": {
        "colab": {
          "base_uri": "https://localhost:8080/"
        },
        "id": "HcuApXj3RIWf",
        "outputId": "7345f923-5165-4cc4-a746-b27e7a1693bf"
      },
      "source": [
        "mlp = MLPClassifier()\n",
        "mlp.fit(X_train,y_train)\n",
        "y_pred_mlp = mlp.predict(X_test)"
      ],
      "execution_count": 428,
      "outputs": [
        {
          "output_type": "stream",
          "name": "stderr",
          "text": [
            "/usr/local/lib/python3.7/dist-packages/sklearn/neural_network/_multilayer_perceptron.py:571: ConvergenceWarning: Stochastic Optimizer: Maximum iterations (200) reached and the optimization hasn't converged yet.\n",
            "  % self.max_iter, ConvergenceWarning)\n"
          ]
        }
      ]
    },
    {
      "cell_type": "code",
      "metadata": {
        "id": "lCADfQwURKq5"
      },
      "source": [
        "knn = KNeighborsClassifier(9)\n",
        "knn.fit(X_train,y_train)\n",
        "y_pred_knn = knn.predict(X_test)"
      ],
      "execution_count": 429,
      "outputs": []
    },
    {
      "cell_type": "code",
      "metadata": {
        "id": "zjqyPTW9RMnR"
      },
      "source": [
        "et_1000 = ExtraTreesClassifier(n_estimators= 1000)\n",
        "et_1000.fit(X_train,y_train)\n",
        "y_pred_et1000 = et_1000.predict(X_test)"
      ],
      "execution_count": 430,
      "outputs": []
    },
    {
      "cell_type": "code",
      "metadata": {
        "id": "IZETv1QORPeu"
      },
      "source": [
        "xgb = xgb.XGBClassifier(n_estimators= 1000)\n",
        "xgb.fit(X_train,y_train)\n",
        "y_pred_xgb = xgb.predict(X_test)"
      ],
      "execution_count": 431,
      "outputs": []
    },
    {
      "cell_type": "code",
      "metadata": {
        "id": "KcB77z6sRRfS"
      },
      "source": [
        "svc = SVC(kernel='linear',gamma='auto',probability=True)\n",
        "svc.fit(X_train,y_train)\n",
        "y_pred_svc = svc.predict(X_test)"
      ],
      "execution_count": 432,
      "outputs": []
    },
    {
      "cell_type": "code",
      "metadata": {
        "id": "KQ5YJCMnRThF"
      },
      "source": [
        "sgd = SGDClassifier(max_iter=1000, tol=1e-4)\n",
        "sgd.fit(X_train,y_train)\n",
        "y_pred_sgd = sgd.predict(X_test)"
      ],
      "execution_count": 434,
      "outputs": []
    },
    {
      "cell_type": "code",
      "metadata": {
        "id": "_Bb_PFc-RW9R"
      },
      "source": [
        "ada = AdaBoostClassifier()\n",
        "ada.fit(X_train,y_train)\n",
        "y_pred_ada = ada.predict(X_test)"
      ],
      "execution_count": 435,
      "outputs": []
    },
    {
      "cell_type": "code",
      "metadata": {
        "id": "RNoqrLx6RZuq"
      },
      "source": [
        "decc = DecisionTreeClassifier()\n",
        "decc.fit(X_train,y_train)\n",
        "y_pred_decc = decc.predict(X_test)"
      ],
      "execution_count": 438,
      "outputs": []
    },
    {
      "cell_type": "code",
      "metadata": {
        "id": "vU79l2L9RcSw"
      },
      "source": [
        "gbm = GradientBoostingClassifier(n_estimators=100,max_features='sqrt')\n",
        "gbm.fit(X_train,y_train)\n",
        "y_pred_gbm = gbm.predict(X_test)"
      ],
      "execution_count": 439,
      "outputs": []
    },
    {
      "cell_type": "code",
      "metadata": {
        "colab": {
          "base_uri": "https://localhost:8080/",
          "height": 388
        },
        "id": "U6DDOjuoRkTV",
        "outputId": "e9ac0972-f298-42e8-a085-8c8c890017b9"
      },
      "source": [
        "data = {\n",
        "             'Random Forest Entropy': y_pred_rfe, \n",
        "                'MLP2': y_pred_mlp, \n",
        "                'KNN2': y_pred_knn, \n",
        "                'EXtra tree classifier': y_pred_et1000,\n",
        "                'XGB2': y_pred_xgb, \n",
        "                'SVC2': y_pred_svc, \n",
        "                'SGD2': y_pred_sgd,\n",
        "                'Adaboost': y_pred_ada, \n",
        "                'CART': y_pred_decc, \n",
        "                'GBM': y_pred_gbm }\n",
        "\n",
        "models = pd.DataFrame(data) \n",
        " \n",
        "for column in models:\n",
        "    CM=confusion_matrix(y_test,models[column])\n",
        "    \n",
        "    TN = CM[0][0]\n",
        "    FN = CM[1][0]\n",
        "    TP = CM[1][1]\n",
        "    FP = CM[0][1]\n",
        "    specificity = TN/(TN+FP)\n",
        "    loss_log = log_loss(y_test, models[column])\n",
        "    acc= accuracy_score(y_test, models[column])\n",
        "    roc=roc_auc_score(y_test, models[column])\n",
        "    prec = precision_score(y_test, models[column])\n",
        "    rec = recall_score(y_test, models[column])\n",
        "    f1 = f1_score(y_test, models[column])\n",
        "    \n",
        "    mathew = matthews_corrcoef(y_test, models[column])\n",
        "    results =pd.DataFrame([[column,acc, prec,rec,specificity, f1,roc, loss_log,mathew]],\n",
        "               columns = ['Model', 'Accuracy','Precision', 'Sensitivity','Specificity', 'F1 Score','ROC','Log_Loss','mathew_corrcoef'])\n",
        "    model_results = model_results.append(results, ignore_index = True)\n",
        "\n",
        "model_results"
      ],
      "execution_count": 440,
      "outputs": [
        {
          "output_type": "execute_result",
          "data": {
            "text/html": [
              "<div>\n",
              "<style scoped>\n",
              "    .dataframe tbody tr th:only-of-type {\n",
              "        vertical-align: middle;\n",
              "    }\n",
              "\n",
              "    .dataframe tbody tr th {\n",
              "        vertical-align: top;\n",
              "    }\n",
              "\n",
              "    .dataframe thead th {\n",
              "        text-align: right;\n",
              "    }\n",
              "</style>\n",
              "<table border=\"1\" class=\"dataframe\">\n",
              "  <thead>\n",
              "    <tr style=\"text-align: right;\">\n",
              "      <th></th>\n",
              "      <th>Model</th>\n",
              "      <th>Accuracy</th>\n",
              "      <th>Precision</th>\n",
              "      <th>Sensitivity</th>\n",
              "      <th>Specificity</th>\n",
              "      <th>F1 Score</th>\n",
              "      <th>ROC</th>\n",
              "      <th>Log_Loss</th>\n",
              "      <th>mathew_corrcoef</th>\n",
              "    </tr>\n",
              "  </thead>\n",
              "  <tbody>\n",
              "    <tr>\n",
              "      <th>0</th>\n",
              "      <td>Soft Voting</td>\n",
              "      <td>0.803571</td>\n",
              "      <td>0.833333</td>\n",
              "      <td>0.806452</td>\n",
              "      <td>0.80</td>\n",
              "      <td>0.819672</td>\n",
              "      <td>0.803226</td>\n",
              "      <td>6.784474</td>\n",
              "      <td>0.604505</td>\n",
              "    </tr>\n",
              "    <tr>\n",
              "      <th>1</th>\n",
              "      <td>Random Forest Entropy</td>\n",
              "      <td>0.803571</td>\n",
              "      <td>0.812500</td>\n",
              "      <td>0.838710</td>\n",
              "      <td>0.76</td>\n",
              "      <td>0.825397</td>\n",
              "      <td>0.799355</td>\n",
              "      <td>6.784488</td>\n",
              "      <td>0.601432</td>\n",
              "    </tr>\n",
              "    <tr>\n",
              "      <th>2</th>\n",
              "      <td>MLP2</td>\n",
              "      <td>0.875000</td>\n",
              "      <td>0.852941</td>\n",
              "      <td>0.935484</td>\n",
              "      <td>0.80</td>\n",
              "      <td>0.892308</td>\n",
              "      <td>0.867742</td>\n",
              "      <td>4.317418</td>\n",
              "      <td>0.748640</td>\n",
              "    </tr>\n",
              "    <tr>\n",
              "      <th>3</th>\n",
              "      <td>KNN2</td>\n",
              "      <td>0.875000</td>\n",
              "      <td>0.852941</td>\n",
              "      <td>0.935484</td>\n",
              "      <td>0.80</td>\n",
              "      <td>0.892308</td>\n",
              "      <td>0.867742</td>\n",
              "      <td>4.317418</td>\n",
              "      <td>0.748640</td>\n",
              "    </tr>\n",
              "    <tr>\n",
              "      <th>4</th>\n",
              "      <td>EXtra tree classifier</td>\n",
              "      <td>0.857143</td>\n",
              "      <td>0.870968</td>\n",
              "      <td>0.870968</td>\n",
              "      <td>0.84</td>\n",
              "      <td>0.870968</td>\n",
              "      <td>0.855484</td>\n",
              "      <td>4.934168</td>\n",
              "      <td>0.710968</td>\n",
              "    </tr>\n",
              "    <tr>\n",
              "      <th>5</th>\n",
              "      <td>XGB2</td>\n",
              "      <td>0.821429</td>\n",
              "      <td>0.838710</td>\n",
              "      <td>0.838710</td>\n",
              "      <td>0.80</td>\n",
              "      <td>0.838710</td>\n",
              "      <td>0.819355</td>\n",
              "      <td>6.167710</td>\n",
              "      <td>0.638710</td>\n",
              "    </tr>\n",
              "    <tr>\n",
              "      <th>6</th>\n",
              "      <td>SVC2</td>\n",
              "      <td>0.803571</td>\n",
              "      <td>0.777778</td>\n",
              "      <td>0.903226</td>\n",
              "      <td>0.68</td>\n",
              "      <td>0.835821</td>\n",
              "      <td>0.791613</td>\n",
              "      <td>6.784517</td>\n",
              "      <td>0.605092</td>\n",
              "    </tr>\n",
              "    <tr>\n",
              "      <th>7</th>\n",
              "      <td>SGD2</td>\n",
              "      <td>0.821429</td>\n",
              "      <td>0.783784</td>\n",
              "      <td>0.935484</td>\n",
              "      <td>0.68</td>\n",
              "      <td>0.852941</td>\n",
              "      <td>0.807742</td>\n",
              "      <td>6.167753</td>\n",
              "      <td>0.646234</td>\n",
              "    </tr>\n",
              "    <tr>\n",
              "      <th>8</th>\n",
              "      <td>Adaboost</td>\n",
              "      <td>0.821429</td>\n",
              "      <td>0.862069</td>\n",
              "      <td>0.806452</td>\n",
              "      <td>0.84</td>\n",
              "      <td>0.833333</td>\n",
              "      <td>0.823226</td>\n",
              "      <td>6.167696</td>\n",
              "      <td>0.643141</td>\n",
              "    </tr>\n",
              "    <tr>\n",
              "      <th>9</th>\n",
              "      <td>CART</td>\n",
              "      <td>0.750000</td>\n",
              "      <td>0.814815</td>\n",
              "      <td>0.709677</td>\n",
              "      <td>0.80</td>\n",
              "      <td>0.758621</td>\n",
              "      <td>0.754839</td>\n",
              "      <td>8.634765</td>\n",
              "      <td>0.507067</td>\n",
              "    </tr>\n",
              "    <tr>\n",
              "      <th>10</th>\n",
              "      <td>GBM</td>\n",
              "      <td>0.857143</td>\n",
              "      <td>0.870968</td>\n",
              "      <td>0.870968</td>\n",
              "      <td>0.84</td>\n",
              "      <td>0.870968</td>\n",
              "      <td>0.855484</td>\n",
              "      <td>4.934168</td>\n",
              "      <td>0.710968</td>\n",
              "    </tr>\n",
              "  </tbody>\n",
              "</table>\n",
              "</div>"
            ],
            "text/plain": [
              "                    Model  Accuracy  ...  Log_Loss  mathew_corrcoef\n",
              "0             Soft Voting  0.803571  ...  6.784474         0.604505\n",
              "1   Random Forest Entropy  0.803571  ...  6.784488         0.601432\n",
              "2                    MLP2  0.875000  ...  4.317418         0.748640\n",
              "3                    KNN2  0.875000  ...  4.317418         0.748640\n",
              "4   EXtra tree classifier  0.857143  ...  4.934168         0.710968\n",
              "5                    XGB2  0.821429  ...  6.167710         0.638710\n",
              "6                    SVC2  0.803571  ...  6.784517         0.605092\n",
              "7                    SGD2  0.821429  ...  6.167753         0.646234\n",
              "8                Adaboost  0.821429  ...  6.167696         0.643141\n",
              "9                    CART  0.750000  ...  8.634765         0.507067\n",
              "10                    GBM  0.857143  ...  4.934168         0.710968\n",
              "\n",
              "[11 rows x 9 columns]"
            ]
          },
          "metadata": {},
          "execution_count": 440
        }
      ]
    },
    {
      "cell_type": "code",
      "metadata": {
        "colab": {
          "base_uri": "https://localhost:8080/",
          "height": 513
        },
        "id": "3ti4XJ1WRoPz",
        "outputId": "124982ce-cb16-4fee-d7fe-ce9693f20ad1"
      },
      "source": [
        "def roc_auc_plot(y_true, y_proba, label=' ', l='-', lw=1.0):\n",
        "    from sklearn.metrics import roc_curve, roc_auc_score\n",
        "    fpr, tpr, _ = roc_curve(y_true, y_proba[:,1])\n",
        "    ax.plot(fpr, tpr, linestyle=l, linewidth=lw,\n",
        "            label=\"%s (area=%.3f)\"%(label,roc_auc_score(y_true, y_proba[:,1])))\n",
        "\n",
        "f, ax = plt.subplots(figsize=(12,8))\n",
        "\n",
        "roc_auc_plot(y_test,eclf1.predict_proba(X_test),label='Soft Voting Classifier ',l='-')\n",
        "roc_auc_plot(y_test,rf_ent.predict_proba(X_test),label='Random Forest Classifier ',l='-')\n",
        "roc_auc_plot(y_test,et_1000.predict_proba(X_test),label='Extra Tree Classifier ',l='-')\n",
        "roc_auc_plot(y_test,xgb.predict_proba(X_test),label='XGboost',l='-')\n",
        "\n",
        "ax.plot([0,1], [0,1], color='k', linewidth=0.5, linestyle='--', \n",
        "        )    \n",
        "ax.legend(loc=\"lower right\")    \n",
        "ax.set_xlabel('False Positive Rate')\n",
        "ax.set_ylabel('True Positive Rate')\n",
        "ax.set_xlim([0, 1])\n",
        "ax.set_ylim([0, 1])\n",
        "ax.set_title('Receiver Operator Characteristic curves')\n",
        "sns.despine()"
      ],
      "execution_count": 441,
      "outputs": [
        {
          "output_type": "display_data",
          "data": {
            "image/png": "[encoded data removed]",
            "text/plain": [
              "<Figure size 864x576 with 1 Axes>"
            ]
          },
          "metadata": {
            "needs_background": "light"
          }
        }
      ]
    },
    {
      "cell_type": "code",
      "metadata": {
        "colab": {
          "base_uri": "https://localhost:8080/",
          "height": 621
        },
        "id": "mouN3vbVRwnv",
        "outputId": "7908732d-39fd-4253-f253-5de61550c8cf"
      },
      "source": [
        "def precision_recall_plot(y_true, y_proba, label=' ', l='-', lw=1.0):\n",
        "    from sklearn.metrics import precision_recall_curve, average_precision_score\n",
        "    precision, recall, _ = precision_recall_curve(y_test,\n",
        "                                                  y_proba[:,1])\n",
        "    average_precision = average_precision_score(y_test, y_proba[:,1],\n",
        "                                                     average=\"micro\")\n",
        "    ax.plot(recall, precision, label='%s (average=%.3f)'%(label,average_precision),\n",
        "            linestyle=l, linewidth=lw)\n",
        "\n",
        "f, ax = plt.subplots(figsize=(14,10))\n",
        "precision_recall_plot(y_test,eclf1.predict_proba(X_test),label='Soft voting classifier ',l='-')\n",
        "precision_recall_plot(y_test,rf_ent.predict_proba(X_test),label='Random Forest Classifier ',l='-')\n",
        "precision_recall_plot(y_test,et_1000.predict_proba(X_test),label='Extra Tree Classifier ',l='-')\n",
        "precision_recall_plot(y_test,xgb.predict_proba(X_test),label='XGboost',l='-')\n",
        "ax.set_xlabel('Recall')\n",
        "ax.set_ylabel('Precision')\n",
        "ax.legend(loc=\"lower left\")\n",
        "ax.grid(True)\n",
        "ax.set_xlim([0, 1])\n",
        "ax.set_ylim([0, 1])\n",
        "ax.set_title('Precision-recall curves')\n",
        "sns.despine()"
      ],
      "execution_count": 442,
      "outputs": [
        {
          "output_type": "display_data",
          "data": {
            "image/png": "[encoded data removed]",
            "text/plain": [
              "<Figure size 1008x720 with 1 Axes>"
            ]
          },
          "metadata": {
            "needs_background": "light"
          }
        }
      ]
    },
    {
      "cell_type": "code",
      "metadata": {
        "colab": {
          "base_uri": "https://localhost:8080/",
          "height": 282
        },
        "id": "yYh8pq-nR1ea",
        "outputId": "471c4b96-5c4e-4326-cbe8-f8fff249c06a"
      },
      "source": [
        "feat_importances = pd.Series(rf_ent.feature_importances_, index=X_train.columns)\n",
        "feat_importances.nlargest(20).plot(kind='barh')"
      ],
      "execution_count": 443,
      "outputs": [
        {
          "output_type": "execute_result",
          "data": {
            "text/plain": [
              "<matplotlib.axes._subplots.AxesSubplot at 0x7fdb4f1b6dd0>"
            ]
          },
          "metadata": {},
          "execution_count": 443
        },
        {
          "output_type": "display_data",
          "data": {
            "image/png": "[encoded data removed]",
            "text/plain": [
              "<Figure size 432x288 with 1 Axes>"
            ]
          },
          "metadata": {
            "needs_background": "light"
          }
        }
      ]
    }
  ]
}